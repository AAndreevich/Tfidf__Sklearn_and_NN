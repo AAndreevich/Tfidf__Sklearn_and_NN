{
  "cells": [
    {
      "cell_type": "markdown",
      "source": [
        "# Content"
      ],
      "metadata": {
        "id": "ugRtGL5_kDhj"
      },
      "id": "ugRtGL5_kDhj"
    },
    {
      "cell_type": "markdown",
      "source": [
        ">[Content](#scrollTo=ugRtGL5_kDhj)\n",
        "\n",
        ">[Task](#scrollTo=AO0_zhK1k27I)\n",
        "\n",
        ">[I Libraries and Functions](#scrollTo=sCG_g7USyYQT)\n",
        "\n",
        ">>[1 Import libraries](#scrollTo=QvJBtShGOQoq)\n",
        "\n",
        ">>[2 Additional functions](#scrollTo=2PFzi0D8OWza)\n",
        "\n",
        ">[II About DATA](#scrollTo=lmkq0eHhzus1)\n",
        "\n",
        ">>[3 Load data](#scrollTo=1bMx0u_uOzCj)\n",
        "\n",
        ">>[4 Review data](#scrollTo=UxF3r92YyQoW)\n",
        "\n",
        ">>>[4.1 Save review data](#scrollTo=SzLJgVu_y_ZT)\n",
        "\n",
        ">>>[4.2 Load review data](#scrollTo=qd4ywGQozI_J)\n",
        "\n",
        ">>[5 Split data](#scrollTo=OS0p7mmVzP3C)\n",
        "\n",
        ">>>[5.1. Save split data](#scrollTo=Fi7WXaG7z895)\n",
        "\n",
        ">>>[5.2 Load split data](#scrollTo=Aq3Ut4-D0BTe)\n",
        "\n",
        ">[III PIPELINE](#scrollTo=bh7A2NpL0GbU)\n",
        "\n",
        ">>[6 Make Pipeline](#scrollTo=DY8tFXyP0MM0)\n",
        "\n",
        ">>[7 Create models params](#scrollTo=_aC8bn9dyfTS)\n",
        "\n",
        ">[IV LogReg](#scrollTo=zHtEAHvGudqK)\n",
        "\n",
        ">>[8 Learning model](#scrollTo=CHtzOK9P0SkI)\n",
        "\n",
        ">>>[8.1 Learn with high frequency](#scrollTo=fS4t5cPrkRct)\n",
        "\n",
        ">>>>[8.1.1 ROC curve plot](#scrollTo=p5XoDmNA0Yt4)\n",
        "\n",
        ">>>>[8.1.2 Cnfusion matrix plot](#scrollTo=HPuGLstW0dvr)\n",
        "\n",
        ">>>[8.2 Learn with middle frequency](#scrollTo=fk8Twcqozw2Z)\n",
        "\n",
        ">>>>[8.2.1 ROC curve plot](#scrollTo=c1UpbDO5GqSu)\n",
        "\n",
        ">>>>[8.2.2 Cnfusion matrix plot](#scrollTo=8C_Yb2_KGx2M)\n",
        "\n",
        ">>>[8.3 Learn with lower frequency](#scrollTo=gCnPW6lOHN5H)\n",
        "\n",
        ">>>>[8.3.1 ROC curve plot](#scrollTo=jGAjTfk5HWcV)\n",
        "\n",
        ">>>>[8.3.2 Cnfusion matrix plot](#scrollTo=EdUJo4tGHWnT)\n",
        "\n",
        ">>[9 SAVE Logreg model](#scrollTo=khTG-NcF00TW)\n",
        "\n",
        ">>[10 Testing of model](#scrollTo=-WU1cTd30t_H)\n",
        "\n",
        ">>>[10.1 LOAD Logreg model](#scrollTo=jPXuQErlt9Xm)\n",
        "\n",
        ">>>[10.2 Testing model](#scrollTo=VO4lf6eNqLn6)\n",
        "\n",
        ">[IV Neural Network](#scrollTo=SM8QBHHkYKkY)\n",
        "\n",
        ">>[11 Check device](#scrollTo=hiErtrMzqnhB)\n",
        "\n",
        ">>[12 Split data](#scrollTo=1zUIfWdGss5c)\n",
        "\n",
        ">>[13 Preprocessing data](#scrollTo=MGYwgqixsGXs)\n",
        "\n",
        ">>[14 Create DataLoader](#scrollTo=7uwXFW2JzTIR)\n",
        "\n",
        ">>[15 Create Model](#scrollTo=cBZfjo410cKl)\n",
        "\n",
        ">>[16 Create optimizer and function loss](#scrollTo=dnOobGnrEEAF)\n",
        "\n",
        ">>[17 Learn of model](#scrollTo=p5qMRFhhEUOb)\n",
        "\n",
        ">>[18 Visualisation of result learning model](#scrollTo=01gLWoZ-SAiL)\n",
        "\n"
      ],
      "metadata": {
        "colab_type": "toc",
        "id": "pMly-mA3dWSN"
      },
      "id": "pMly-mA3dWSN"
    },
    {
      "cell_type": "markdown",
      "source": [
        "# Task"
      ],
      "metadata": {
        "id": "AO0_zhK1k27I"
      },
      "id": "AO0_zhK1k27I"
    },
    {
      "cell_type": "markdown",
      "id": "243505b3-232f-4eb0-9a18-b9b6b05e4c1c",
      "metadata": {
        "id": "243505b3-232f-4eb0-9a18-b9b6b05e4c1c"
      },
      "source": [
        "* Задание 1.\n",
        "\n",
        "**Задание**: обучите три классификатора:\n",
        "\n",
        "1) на токенах с высокой частотой\n",
        "\n",
        "2) на токенах со средней частотой\n",
        "\n",
        "3) на токенах с низкой частотой\n",
        "\n",
        "\n",
        "Сравните полученные результаты, оцените какие токены наиболее важные для классификации.\n",
        "\n",
        "\n",
        "* Задание 2.\n",
        "\n",
        "найти фичи с наибольшей значимостью, и вывести их\n",
        "\n",
        "\n",
        "* Задание 3.\n",
        "\n",
        "1) сравнить count/tf-idf/hashing векторайзеры/полносвязанную сетку (построить classification_report)\n",
        "\n",
        "2) подобрать оптимальный размер для hashing векторайзера\n",
        "\n",
        "3) убедиться что для сетки нет переобучения"
      ]
    },
    {
      "cell_type": "markdown",
      "source": [
        "# I Libraries and Functions"
      ],
      "metadata": {
        "id": "sCG_g7USyYQT"
      },
      "id": "sCG_g7USyYQT"
    },
    {
      "cell_type": "markdown",
      "source": [
        "## 1 Import libraries"
      ],
      "metadata": {
        "id": "QvJBtShGOQoq"
      },
      "id": "QvJBtShGOQoq"
    },
    {
      "cell_type": "code",
      "source": [
        "!pip install dill pymorphy2"
      ],
      "metadata": {
        "colab": {
          "base_uri": "https://localhost:8080/"
        },
        "id": "70Nj-EPC_pWv",
        "outputId": "803b03cc-755d-4013-e384-a39b2ac42092"
      },
      "id": "70Nj-EPC_pWv",
      "execution_count": null,
      "outputs": [
        {
          "output_type": "stream",
          "name": "stdout",
          "text": [
            "Collecting dill\n",
            "  Downloading dill-0.3.8-py3-none-any.whl (116 kB)\n",
            "\u001b[2K     \u001b[90m━━━━━━━━━━━━━━━━━━━━━━━━━━━━━━━━━━━━━━━━\u001b[0m \u001b[32m116.3/116.3 kB\u001b[0m \u001b[31m1.5 MB/s\u001b[0m eta \u001b[36m0:00:00\u001b[0m\n",
            "\u001b[?25hCollecting pymorphy2\n",
            "  Downloading pymorphy2-0.9.1-py3-none-any.whl (55 kB)\n",
            "\u001b[2K     \u001b[90m━━━━━━━━━━━━━━━━━━━━━━━━━━━━━━━━━━━━━━━━\u001b[0m \u001b[32m55.5/55.5 kB\u001b[0m \u001b[31m5.2 MB/s\u001b[0m eta \u001b[36m0:00:00\u001b[0m\n",
            "\u001b[?25hCollecting dawg-python>=0.7.1 (from pymorphy2)\n",
            "  Downloading DAWG_Python-0.7.2-py2.py3-none-any.whl (11 kB)\n",
            "Collecting pymorphy2-dicts-ru<3.0,>=2.4 (from pymorphy2)\n",
            "  Downloading pymorphy2_dicts_ru-2.4.417127.4579844-py2.py3-none-any.whl (8.2 MB)\n",
            "\u001b[2K     \u001b[90m━━━━━━━━━━━━━━━━━━━━━━━━━━━━━━━━━━━━━━━━\u001b[0m \u001b[32m8.2/8.2 MB\u001b[0m \u001b[31m30.9 MB/s\u001b[0m eta \u001b[36m0:00:00\u001b[0m\n",
            "\u001b[?25hCollecting docopt>=0.6 (from pymorphy2)\n",
            "  Downloading docopt-0.6.2.tar.gz (25 kB)\n",
            "  Preparing metadata (setup.py) ... \u001b[?25l\u001b[?25hdone\n",
            "Building wheels for collected packages: docopt\n",
            "  Building wheel for docopt (setup.py) ... \u001b[?25l\u001b[?25hdone\n",
            "  Created wheel for docopt: filename=docopt-0.6.2-py2.py3-none-any.whl size=13706 sha256=15d5743169b310352478a2f9b4ccb8f94b892ffb59f5906948146c5ddffe4982\n",
            "  Stored in directory: /root/.cache/pip/wheels/fc/ab/d4/5da2067ac95b36618c629a5f93f809425700506f72c9732fac\n",
            "Successfully built docopt\n",
            "Installing collected packages: pymorphy2-dicts-ru, docopt, dawg-python, pymorphy2, dill\n",
            "Successfully installed dawg-python-0.7.2 dill-0.3.8 docopt-0.6.2 pymorphy2-0.9.1 pymorphy2-dicts-ru-2.4.417127.4579844\n"
          ]
        }
      ]
    },
    {
      "cell_type": "code",
      "execution_count": null,
      "id": "e26a8573-0071-4621-bb9c-caaa99d662d4",
      "metadata": {
        "id": "e26a8573-0071-4621-bb9c-caaa99d662d4"
      },
      "outputs": [],
      "source": [
        "import os\n",
        "import re\n",
        "import shutil\n",
        "from google.colab import drive, files\n",
        "import pandas as pd\n",
        "import numpy as np\n",
        "from sklearn.feature_extraction.text import TfidfVectorizer, HashingVectorizer, CountVectorizer\n",
        "from nltk.util import ngrams\n",
        "from sklearn.model_selection import train_test_split\n",
        "from sklearn.metrics import classification_report, precision_score, f1_score, \\\n",
        "    recall_score, accuracy_score, confusion_matrix, \\\n",
        "    precision_recall_curve, roc_curve, roc_auc_score\n",
        "from sklearn.linear_model import LogisticRegression\n",
        "from sklearn.ensemble import RandomForestRegressor\n",
        "from sklearn.tree import DecisionTreeRegressor\n",
        "from xgboost import XGBRFRegressor\n",
        "import matplotlib.pyplot as plt\n",
        "import seaborn as sns\n",
        "import itertools\n",
        "from sklearn.pipeline import Pipeline, make_pipeline, FeatureUnion\n",
        "from sklearn.base import BaseEstimator, TransformerMixin\n",
        "import dill\n",
        "import pickle\n",
        "from sklearn.preprocessing import StandardScaler, FunctionTransformer\n",
        "\n",
        "import torch\n",
        "import torch.nn as nn\n",
        "import torch.nn.functional as F\n",
        "from torch.utils.data import DataLoader, Dataset\n",
        "import nltk\n",
        "from nltk.tokenize import word_tokenize\n",
        "from nltk.probability import FreqDist\n",
        "from string import punctuation\n",
        "from tqdm import tqdm\n",
        "from pymorphy2 import MorphAnalyzer\n",
        "from sklearn.feature_extraction import text"
      ]
    },
    {
      "cell_type": "markdown",
      "source": [
        "## 2 Additional functions"
      ],
      "metadata": {
        "id": "2PFzi0D8OWza"
      },
      "id": "2PFzi0D8OWza"
    },
    {
      "cell_type": "code",
      "source": [
        "def MDir(dir_name):\n",
        "    \"\"\"Make a new folder\"\"\"\n",
        "    if os.path.exists(dir_name):\n",
        "        shutil.rmtree(dir_name)\n",
        "    os.makedirs(dir_name)\n",
        "\n",
        "\n",
        "def specific_clean_text(text:str, repl_dict:dict) -> str:\n",
        "\n",
        "    \"\"\"Clean text on specific values from your dictionary\"\"\"\n",
        "\n",
        "    if not isinstance(text, str):\n",
        "        text = str(text)\n",
        "\n",
        "    for k,v in repl_dict.items():\n",
        "        text = re.sub(k, v, text)\n",
        "    return text\n",
        "\n",
        "\n",
        "def Load_apostrophes_dict(path: str) -> dict:\n",
        "\n",
        "    \"\"\"Load set of special characters like (it's, can't, won't)\n",
        "    You can try it with func: specific_clean_text\"\"\"\n",
        "\n",
        "    apo_df = pd.read_table(path_to_work_dir + \"apo_tabl.txt\", delimiter=\"|\")\n",
        "    apostrophe_dict = {}\n",
        "    short_list = apo_df['Short'].values\n",
        "    full_list = apo_df['Full'].values\n",
        "    for ind in apo_df.index.to_list():\n",
        "        apostrophe_dict[short_list[ind]] = full_list[ind]\n",
        "\n",
        "    return apostrophe_dict\n",
        "\n",
        "sw = set(text.ENGLISH_STOP_WORDS)\n",
        "morpher = MorphAnalyzer()\n",
        "\n",
        "class CleanText(BaseEstimator, TransformerMixin):\n",
        "\n",
        "    \"\"\"Cleaning text from regular characters in column\n",
        "    key: name of column\"\"\"\n",
        "\n",
        "    def __init__(self, key):\n",
        "        self.key = key\n",
        "\n",
        "\n",
        "    def clean_text(text:str) -> str:\n",
        "\n",
        "        \"\"\"Clean text\"\"\"\n",
        "\n",
        "        if not isinstance(text, str):\n",
        "            text = str(text)\n",
        "\n",
        "        text = text.lower()\n",
        "        text = text.strip('\\n').strip('\\r').strip('\\t')\n",
        "        text = re.sub(\"-\\s\\r\\n\\|-\\s\\r\\n|\\r\\n\", '', str(text))\n",
        "        text = re.sub(\"[0-9]|[-—.,:;_%©«»?*!@#№$^•·&()]|[+=]|[[]|[]]|[/]|<U13\", '', text)\n",
        "        text = re.sub(r\"\\r\\n\\t|\\n|\\\\s|\\r\\t|\\\\n\", ' ', text)\n",
        "        text = re.sub(r'[\\xad]|[\\s+]', ' ', text.strip())\n",
        "        text = re.sub('\\n', ' ', text)\n",
        "        text = [morpher.parse(word)[0].normal_form for word in text.split() if word not in sw]\n",
        "        return \" \".join(text)\n",
        "\n",
        "        # return text\n",
        "\n",
        "    def get_feature_names_out(self, feature_names_out=None):\n",
        "        if feature_names_out != None:\n",
        "            return feature_names_out\n",
        "        else:\n",
        "            return [self.key]\n",
        "\n",
        "    def fit(self, X, y=None):\n",
        "        return self\n",
        "\n",
        "    def transform(self, X) -> pd.DataFrame:\n",
        "        tqdm.pandas()\n",
        "        X[self.key] = X[self.key].progress_apply(CleanText.clean_text)\n",
        "        return X[self.key]\n",
        "\n",
        "\n",
        "def model_learning(pipeline: Pipeline, model, params_model, X_train, X_test, Y_train, Y_test) -> dict:\n",
        "\n",
        "    \"\"\"Learning model and make final pipeline wich you can use\n",
        "    model - your model\n",
        "    params_model - params for your model\n",
        "    X_train, X_test, Y_train, Y_test - train_test_split data\n",
        "    columns - columns for high or middle or min frequency token\n",
        "\n",
        "    Return -> model_learning_dict\n",
        "    {\"model\": P,\n",
        "    \"y_true_proba\": y_true_proba,\n",
        "    \"y_true_predict\": y_true_predict}\"\"\"\n",
        "\n",
        "    P = pipeline\n",
        "    P.steps.append(('model', model(**params_model[model.__name__])))\n",
        "    P.fit(X_train, Y_train)\n",
        "    y_true_predict = P.predict(X_test)\n",
        "    if \"predict_proba\" not in dir(model):\n",
        "        y_true_proba = y_true_predict\n",
        "    else:\n",
        "        y_true_proba = P.predict_proba(X_test)[:,1]\n",
        "\n",
        "    model_learning_dict = {\"model\": P,\n",
        "                           \"y_true_proba\": y_true_proba,\n",
        "                           \"y_true_predict\": y_true_predict}\n",
        "    return model_learning_dict\n",
        "\n",
        "\n",
        "def ROC_AUC_show(y_test, y_true):\n",
        "\n",
        "    \"\"\"Ploting ROC curve\"\"\"\n",
        "\n",
        "    sns.set(font_scale=1.5)\n",
        "    sns.set_color_codes(\"muted\")\n",
        "\n",
        "    plt.figure(figsize=(10, 8))\n",
        "    fpr, tpr, thresholds_ = roc_curve(y_test, y_true, pos_label=1)\n",
        "    lw = 2\n",
        "    plt.plot(fpr, tpr, lw=lw, label='ROC curve ')\n",
        "    plt.plot([0, 1], [0, 1])\n",
        "    plt.xlim([0.0, 1.0])\n",
        "    plt.ylim([0.0, 1.05])\n",
        "    plt.xlabel('False Positive Rate')\n",
        "    plt.ylabel('True Positive Rate')\n",
        "    plt.title('ROC curve')\n",
        "    plt.show()\n",
        "\n",
        "\n",
        "def Calc_of_metrics_and_Roc_Auc(model, y_true_proba, y_true_predict, X_train, X_test, y_train, y_test) -> dict:\n",
        "\n",
        "    \"\"\"Calculate metrics and plot ROC curve\n",
        "    Return dict with best values\n",
        "    {\"Thresholds\":thresholds[ix],\n",
        "    \"F_score\": fscore[ix],\n",
        "    \"Precision\":precision[ix],\n",
        "    \"Recall\": recall[ix]}\"\"\"\n",
        "\n",
        "    b = 1\n",
        "    precision, recall, thresholds = precision_recall_curve(y_test, y_true_proba)\n",
        "    fscore = (1 + b**2) * (precision * recall) / (b**2 * precision + recall)\n",
        "    ix = np.argmax(fscore)\n",
        "    if np.isnan(fscore[ix]):\n",
        "        F1 = f1_score(y_test, y_true_predict)\n",
        "        closest_value = min(fscore, key=lambda x: abs(F1 - x))\n",
        "        ix = list(fscore).index(closest_value)\n",
        "    fpr, tpr, thresholds_ = roc_curve(y_test, y_true_proba, pos_label=1)\n",
        "    print(f'Best Threshold={thresholds[ix]:.3f}, F-Score={fscore[ix]:.3f}, Precision={precision[ix]:.3f}, Recall={recall[ix]:.3f}')\n",
        "\n",
        "    print(\"\\n\",\"*\"*50,\"\\n\")\n",
        "    ROC_AUC_show(y_test, y_true_proba)\n",
        "\n",
        "    metrics_dict = {\"Thresholds\":thresholds[ix], \"F_score\": fscore[ix], \"Precision\":precision[ix], \"Recall\": recall[ix]}\n",
        "    return metrics_dict\n",
        "\n",
        "\n",
        "def plot_confusion_matrix(cm, classes,\n",
        "                          normalize=False,\n",
        "                          title='Confusion matrix',\n",
        "                          cmap=plt.cm.Blues):\n",
        "    \"\"\"\n",
        "    This function prints and plots the confusion matrix.\n",
        "    Normalization can be applied by setting `normalize=True`.\n",
        "    \"\"\"\n",
        "    plt.imshow(cm, interpolation='nearest', cmap=cmap)\n",
        "    plt.title(title)\n",
        "    plt.colorbar()\n",
        "    tick_marks = np.arange(len(classes))\n",
        "    plt.xticks(tick_marks, classes, rotation=45)\n",
        "    plt.yticks(tick_marks, classes)\n",
        "\n",
        "    if normalize:\n",
        "        cm = cm.astype('float') / cm.sum(axis=1)[:, np.newaxis]\n",
        "        print(\"Normalized confusion matrix\")\n",
        "    else:\n",
        "        print('Confusion matrix, without normalization')\n",
        "\n",
        "    print(cm)\n",
        "\n",
        "    thresh = cm.max() / 2.\n",
        "    for i, j in itertools.product(range(cm.shape[0]), range(cm.shape[1])):\n",
        "        plt.text(j, i, cm[i, j],\n",
        "                 horizontalalignment=\"center\",\n",
        "                 color=\"white\" if cm[i, j] > thresh else \"black\")\n",
        "\n",
        "    plt.tight_layout()\n",
        "    plt.ylabel('True label')\n",
        "    plt.xlabel('Predicted label')\n",
        "\n",
        "\n",
        "def save_model_dill(path, model_name):\n",
        "    with open(path, \"wb\") as mod:\n",
        "        dill.dump(model_name, mod)\n",
        "\n",
        "def load_model_dill(path):\n",
        "    with open(path, \"rb\") as mod1:\n",
        "        model_name = dill.load(mod1)\n",
        "    return model_name\n",
        "\n",
        "def save_model_pkl(path, model_name):\n",
        "    with open(path, \"wb\") as mod:\n",
        "        pickle.dump(model_name, mod)\n",
        "\n",
        "def load_model_pkl(path):\n",
        "    with open(path, \"rb\") as mod1:\n",
        "        model_name = pickle.load(mod1)\n",
        "    return model_name\n",
        "\n",
        "class Preprocessing_data():\n",
        "\n",
        "    \"\"\"*X - X_train, X_val, X_test, y\"\"\"\n",
        "\n",
        "    def __init__(self, *X, cln_txt_key:str, tfidf_params:dict):\n",
        "\n",
        "        \"\"\"*X - X_train, X_val, X_test, y\"\"\"\n",
        "\n",
        "        self.tfidf = TfidfVectorizer(**tfidf_params)\n",
        "        self.cln_txt = CleanText(cln_txt_key)\n",
        "        self.X = list(X)\n",
        "        len_x = len(self.X)\n",
        "        pad = [[None]] * (3-len_x)\n",
        "        self.X = self.X[-len_x:] + pad\n",
        "        self.X_train, self.X_val, self.X_test = self.X\n",
        "\n",
        "    def data_preprocessing(self):\n",
        "\n",
        "        self.X_df_train = self.cln_txt.transform(self.X_train)\n",
        "        self.X_df_val = self.cln_txt.transform(self.X_val)\n",
        "        self.X_df_test = self.cln_txt.transform(self.X_test)\n",
        "        self.vocab = self.tfidf.fit(self.X_df_train).vocabulary_\n",
        "\n",
        "    def text_to_sequence(self, text, maxlen):\n",
        "        result = []\n",
        "        tokeniz = self.tfidf.build_tokenizer()\n",
        "        tokens_list = tokeniz(text)\n",
        "        for word in tokens_list:\n",
        "            if word in self.vocab:\n",
        "                result.append(self.vocab[word])\n",
        "\n",
        "        padding = [0] * (maxlen-len(result))\n",
        "        return result[-maxlen:] + padding\n",
        "\n",
        "    def results(self, max_len:int=25) -> np.array:\n",
        "        x_train = np.asarray([Preprocessing_data.text_to_sequence(self, text, max_len) for text in self.X_df_train])\n",
        "        x_val = np.asarray([Preprocessing_data.text_to_sequence(self, text, max_len) for text in self.X_df_val])\n",
        "        x_test = np.asarray([Preprocessing_data.text_to_sequence(self, text, max_len) for text in self.X_df_test])\n",
        "        return x_train, x_val, x_test\n",
        "\n",
        "\n",
        "class Model_Text(nn.Module):\n",
        "    def __init__(self, vocab_size, embedding_dim=128, out_channel=128, use_last=True):\n",
        "        super().__init__()\n",
        "        self.use_last = use_last\n",
        "        self.embedding = nn.Embedding(vocab_size, vocab_size // 2)\n",
        "        self.lstm_b_1 = nn.LSTM(vocab_size // 2, vocab_size // 4, bidirectional=True, dropout=0.2, batch_first=True)\n",
        "        self.lstm_1 = nn.LSTM(vocab_size // 2, vocab_size // 4, dropout=0.2, batch_first=True)\n",
        "        # self.lstm_b_2 = nn.LSTM(vocab_size // 4, vocab_size // 8, bidirectional=True, batch_first=True)\n",
        "        # self.lstm_2 = nn.LSTM(vocab_size // 4, vocab_size // 8, batch_first=True)\n",
        "        self.srnn = nn.RNN(vocab_size // 4, vocab_size // 8, batch_first=True)\n",
        "        self.drop_1 = nn.Dropout(0.2)\n",
        "        self.fc1 = nn.Linear(vocab_size // 8, vocab_size // 16)\n",
        "        self.fc2 = nn.Linear(vocab_size // 16, vocab_size // 32)\n",
        "        self.fc3 = nn.Linear(vocab_size // 32, vocab_size // 64)\n",
        "        self.fc4 = nn.Linear(vocab_size // 64, 1)\n",
        "\n",
        "\n",
        "    def forward(self, x):\n",
        "        out_e = self.embedding(x)\n",
        "        out_lstm, _ = self.lstm_b_1(out_e)\n",
        "        out_lstm, _ = self.lstm_1(out_lstm)\n",
        "        # out_lstm, _ = self.lstm_b_2(out_lstm)\n",
        "        # out_lstm, _ = self.lstm_2(out_lstm)\n",
        "        rnn_out, _ = self.srnn(out_lstm)\n",
        "        out = rnn_out[:,-1,:] if self.use_last == True else torch.mean(rnn_out[:,:], dim=1)\n",
        "        out = self.drop_1(out)\n",
        "        out = self.fc1(out)\n",
        "        out = self.fc2(out)\n",
        "        out = self.fc3(out)\n",
        "        out = self.fc4(out)\n",
        "        outputs = F.sigmoid(out)\n",
        "        return outputs\n",
        "\n",
        "\n",
        "class MyTextData(Dataset):\n",
        "    def __init__(self, data, target, transform=None):\n",
        "        self.data = torch.from_numpy(data).long()\n",
        "        self.target = torch.from_numpy(target).long()\n",
        "        self.transform = transform\n",
        "\n",
        "    def __getitem__(self, index):\n",
        "        x = self.data[index]\n",
        "        y = self.target[index]\n",
        "\n",
        "        if self.transform:\n",
        "            x = self.transform(x)\n",
        "\n",
        "        return x, y\n",
        "\n",
        "    def __len__(self):\n",
        "        return len(self.data)"
      ],
      "metadata": {
        "id": "FZcVbCr26vRF"
      },
      "id": "FZcVbCr26vRF",
      "execution_count": null,
      "outputs": []
    },
    {
      "cell_type": "code",
      "source": [
        "drive.mount(\"/content/drive/\")"
      ],
      "metadata": {
        "colab": {
          "base_uri": "https://localhost:8080/"
        },
        "id": "7qb2HqhT6XvT",
        "outputId": "60c7ddb3-a6e2-4024-a178-8554f6cf8df4"
      },
      "id": "7qb2HqhT6XvT",
      "execution_count": null,
      "outputs": [
        {
          "output_type": "stream",
          "name": "stdout",
          "text": [
            "Mounted at /content/drive/\n"
          ]
        }
      ]
    },
    {
      "cell_type": "code",
      "source": [
        "path_to_work_dir = \"/content/drive/MyDrive/NLP_HW2/\""
      ],
      "metadata": {
        "id": "nmq5wbgr643S"
      },
      "id": "nmq5wbgr643S",
      "execution_count": null,
      "outputs": []
    },
    {
      "cell_type": "code",
      "execution_count": null,
      "id": "0cf7ccf7-9b1e-4a6b-9009-770cd5f412ee",
      "metadata": {
        "id": "0cf7ccf7-9b1e-4a6b-9009-770cd5f412ee"
      },
      "outputs": [],
      "source": [
        "path_to_data = path_to_work_dir + \"corpus.txt\""
      ]
    },
    {
      "cell_type": "markdown",
      "source": [
        "# II About DATA"
      ],
      "metadata": {
        "id": "lmkq0eHhzus1"
      },
      "id": "lmkq0eHhzus1"
    },
    {
      "cell_type": "markdown",
      "source": [
        "## 3 Load data"
      ],
      "metadata": {
        "id": "1bMx0u_uOzCj"
      },
      "id": "1bMx0u_uOzCj"
    },
    {
      "cell_type": "code",
      "source": [
        "# MDir(path_to_work_dir)"
      ],
      "metadata": {
        "id": "Gpiid23f6y_K"
      },
      "id": "Gpiid23f6y_K",
      "execution_count": null,
      "outputs": []
    },
    {
      "cell_type": "code",
      "source": [
        "# new = files.upload()"
      ],
      "metadata": {
        "id": "PNSUOaGE7qk8"
      },
      "id": "PNSUOaGE7qk8",
      "execution_count": null,
      "outputs": []
    },
    {
      "cell_type": "code",
      "source": [
        "# shutil.move(\"/content/corpus.txt\", path_to_data)"
      ],
      "metadata": {
        "colab": {
          "base_uri": "https://localhost:8080/",
          "height": 35
        },
        "id": "o_Qb46X18cNQ",
        "outputId": "253e6794-e106-400c-fd02-33a683a59c40"
      },
      "id": "o_Qb46X18cNQ",
      "execution_count": null,
      "outputs": [
        {
          "output_type": "execute_result",
          "data": {
            "text/plain": [
              "'/content/drive/MyDrive/NLP_HW2/corpus.txt'"
            ],
            "application/vnd.google.colaboratory.intrinsic+json": {
              "type": "string"
            }
          },
          "metadata": {},
          "execution_count": 14
        }
      ]
    },
    {
      "cell_type": "code",
      "source": [
        "# shutil.move(\"/content/apo_tabl.txt\", path_to_work_dir + \"apo_tabl.txt\")"
      ],
      "metadata": {
        "colab": {
          "base_uri": "https://localhost:8080/",
          "height": 35
        },
        "id": "7oB6ZrFSDgYN",
        "outputId": "221c4bcb-7f0d-4e58-e477-4a590bd31f88"
      },
      "id": "7oB6ZrFSDgYN",
      "execution_count": null,
      "outputs": [
        {
          "output_type": "execute_result",
          "data": {
            "text/plain": [
              "'/content/drive/MyDrive/NLP_HW2/apo_tabl.txt'"
            ],
            "application/vnd.google.colaboratory.intrinsic+json": {
              "type": "string"
            }
          },
          "metadata": {},
          "execution_count": 26
        }
      ]
    },
    {
      "cell_type": "code",
      "execution_count": null,
      "id": "27b1898f-4bc4-4ba7-aaaf-9febbeb64c88",
      "metadata": {
        "id": "27b1898f-4bc4-4ba7-aaaf-9febbeb64c88"
      },
      "outputs": [],
      "source": [
        "document = []\n",
        "with open(path_to_data, \"r\", encoding=\"utf-8\") as f:\n",
        "    for i in f:\n",
        "        i = re.sub(\"\\n\", \"\", i)\n",
        "        i = re.sub(\"__label__1\", \"0|\", i)\n",
        "        i = re.sub(\"__label__2\", \"1|\", i)\n",
        "        i = i.split(\"|\")\n",
        "        document.append(i)"
      ]
    },
    {
      "cell_type": "code",
      "execution_count": null,
      "id": "bab072ca-730e-4c0d-be12-dd6a33da349a",
      "metadata": {
        "id": "bab072ca-730e-4c0d-be12-dd6a33da349a"
      },
      "outputs": [],
      "source": [
        "# document = np.asarray(document, )\n",
        "documents = []\n",
        "for r in document:\n",
        "    documents.append([[r[0]], [r[1]]])"
      ]
    },
    {
      "cell_type": "code",
      "execution_count": null,
      "id": "795c5aa4-bb5d-4de7-8b8a-d11fb109d1b4",
      "metadata": {
        "id": "795c5aa4-bb5d-4de7-8b8a-d11fb109d1b4"
      },
      "outputs": [],
      "source": [
        "documents = np.asarray(documents)"
      ]
    },
    {
      "cell_type": "code",
      "execution_count": null,
      "id": "b4f9aa6c-a8cd-4f7a-b5ef-814ab9172185",
      "metadata": {
        "id": "b4f9aa6c-a8cd-4f7a-b5ef-814ab9172185"
      },
      "outputs": [],
      "source": [
        "documents = documents.reshape((len(documents), 2))"
      ]
    },
    {
      "cell_type": "markdown",
      "source": [
        "## 4 Review data"
      ],
      "metadata": {
        "id": "UxF3r92YyQoW"
      },
      "id": "UxF3r92YyQoW"
    },
    {
      "cell_type": "code",
      "execution_count": null,
      "id": "ae9d37a7-a2e6-49e5-b2c0-49aac92a2563",
      "metadata": {
        "id": "ae9d37a7-a2e6-49e5-b2c0-49aac92a2563"
      },
      "outputs": [],
      "source": [
        "df = pd.DataFrame(documents, columns=[\"label\", \"tweet\"])"
      ]
    },
    {
      "cell_type": "code",
      "execution_count": null,
      "id": "74240c58-2c9f-4135-ab8a-6eb9d2c5b40b",
      "metadata": {
        "colab": {
          "base_uri": "https://localhost:8080/",
          "height": 331
        },
        "id": "74240c58-2c9f-4135-ab8a-6eb9d2c5b40b",
        "outputId": "86b8b4f3-36d6-4afc-9cab-985700d8b073"
      },
      "outputs": [
        {
          "output_type": "execute_result",
          "data": {
            "text/plain": [
              "  label                                              tweet\n",
              "0     1   Stuning even for the non-gamer: This sound tr...\n",
              "1     1   The best soundtrack ever to anything.: I'm re...\n",
              "2     1   Amazing!: This soundtrack is my favorite musi...\n",
              "3     1   Excellent Soundtrack: I truly like this sound...\n",
              "4     1   Remember, Pull Your Jaw Off The Floor After H...\n",
              "5     1   an absolute masterpiece: I am quite sure any ...\n",
              "6     0   Buyer beware: This is a self-published book, ...\n",
              "7     1   Glorious story: I loved Whisper of the wicked...\n",
              "8     1   A FIVE STAR BOOK: I just finished reading Whi..."
            ],
            "text/html": [
              "\n",
              "  <div id=\"df-66b183b1-a5a9-4ca7-a034-2c76590c01da\" class=\"colab-df-container\">\n",
              "    <div>\n",
              "<style scoped>\n",
              "    .dataframe tbody tr th:only-of-type {\n",
              "        vertical-align: middle;\n",
              "    }\n",
              "\n",
              "    .dataframe tbody tr th {\n",
              "        vertical-align: top;\n",
              "    }\n",
              "\n",
              "    .dataframe thead th {\n",
              "        text-align: right;\n",
              "    }\n",
              "</style>\n",
              "<table border=\"1\" class=\"dataframe\">\n",
              "  <thead>\n",
              "    <tr style=\"text-align: right;\">\n",
              "      <th></th>\n",
              "      <th>label</th>\n",
              "      <th>tweet</th>\n",
              "    </tr>\n",
              "  </thead>\n",
              "  <tbody>\n",
              "    <tr>\n",
              "      <th>0</th>\n",
              "      <td>1</td>\n",
              "      <td>Stuning even for the non-gamer: This sound tr...</td>\n",
              "    </tr>\n",
              "    <tr>\n",
              "      <th>1</th>\n",
              "      <td>1</td>\n",
              "      <td>The best soundtrack ever to anything.: I'm re...</td>\n",
              "    </tr>\n",
              "    <tr>\n",
              "      <th>2</th>\n",
              "      <td>1</td>\n",
              "      <td>Amazing!: This soundtrack is my favorite musi...</td>\n",
              "    </tr>\n",
              "    <tr>\n",
              "      <th>3</th>\n",
              "      <td>1</td>\n",
              "      <td>Excellent Soundtrack: I truly like this sound...</td>\n",
              "    </tr>\n",
              "    <tr>\n",
              "      <th>4</th>\n",
              "      <td>1</td>\n",
              "      <td>Remember, Pull Your Jaw Off The Floor After H...</td>\n",
              "    </tr>\n",
              "    <tr>\n",
              "      <th>5</th>\n",
              "      <td>1</td>\n",
              "      <td>an absolute masterpiece: I am quite sure any ...</td>\n",
              "    </tr>\n",
              "    <tr>\n",
              "      <th>6</th>\n",
              "      <td>0</td>\n",
              "      <td>Buyer beware: This is a self-published book, ...</td>\n",
              "    </tr>\n",
              "    <tr>\n",
              "      <th>7</th>\n",
              "      <td>1</td>\n",
              "      <td>Glorious story: I loved Whisper of the wicked...</td>\n",
              "    </tr>\n",
              "    <tr>\n",
              "      <th>8</th>\n",
              "      <td>1</td>\n",
              "      <td>A FIVE STAR BOOK: I just finished reading Whi...</td>\n",
              "    </tr>\n",
              "  </tbody>\n",
              "</table>\n",
              "</div>\n",
              "    <div class=\"colab-df-buttons\">\n",
              "\n",
              "  <div class=\"colab-df-container\">\n",
              "    <button class=\"colab-df-convert\" onclick=\"convertToInteractive('df-66b183b1-a5a9-4ca7-a034-2c76590c01da')\"\n",
              "            title=\"Convert this dataframe to an interactive table.\"\n",
              "            style=\"display:none;\">\n",
              "\n",
              "  <svg xmlns=\"http://www.w3.org/2000/svg\" height=\"24px\" viewBox=\"0 -960 960 960\">\n",
              "    <path d=\"M120-120v-720h720v720H120Zm60-500h600v-160H180v160Zm220 220h160v-160H400v160Zm0 220h160v-160H400v160ZM180-400h160v-160H180v160Zm440 0h160v-160H620v160ZM180-180h160v-160H180v160Zm440 0h160v-160H620v160Z\"/>\n",
              "  </svg>\n",
              "    </button>\n",
              "\n",
              "  <style>\n",
              "    .colab-df-container {\n",
              "      display:flex;\n",
              "      gap: 12px;\n",
              "    }\n",
              "\n",
              "    .colab-df-convert {\n",
              "      background-color: #E8F0FE;\n",
              "      border: none;\n",
              "      border-radius: 50%;\n",
              "      cursor: pointer;\n",
              "      display: none;\n",
              "      fill: #1967D2;\n",
              "      height: 32px;\n",
              "      padding: 0 0 0 0;\n",
              "      width: 32px;\n",
              "    }\n",
              "\n",
              "    .colab-df-convert:hover {\n",
              "      background-color: #E2EBFA;\n",
              "      box-shadow: 0px 1px 2px rgba(60, 64, 67, 0.3), 0px 1px 3px 1px rgba(60, 64, 67, 0.15);\n",
              "      fill: #174EA6;\n",
              "    }\n",
              "\n",
              "    .colab-df-buttons div {\n",
              "      margin-bottom: 4px;\n",
              "    }\n",
              "\n",
              "    [theme=dark] .colab-df-convert {\n",
              "      background-color: #3B4455;\n",
              "      fill: #D2E3FC;\n",
              "    }\n",
              "\n",
              "    [theme=dark] .colab-df-convert:hover {\n",
              "      background-color: #434B5C;\n",
              "      box-shadow: 0px 1px 3px 1px rgba(0, 0, 0, 0.15);\n",
              "      filter: drop-shadow(0px 1px 2px rgba(0, 0, 0, 0.3));\n",
              "      fill: #FFFFFF;\n",
              "    }\n",
              "  </style>\n",
              "\n",
              "    <script>\n",
              "      const buttonEl =\n",
              "        document.querySelector('#df-66b183b1-a5a9-4ca7-a034-2c76590c01da button.colab-df-convert');\n",
              "      buttonEl.style.display =\n",
              "        google.colab.kernel.accessAllowed ? 'block' : 'none';\n",
              "\n",
              "      async function convertToInteractive(key) {\n",
              "        const element = document.querySelector('#df-66b183b1-a5a9-4ca7-a034-2c76590c01da');\n",
              "        const dataTable =\n",
              "          await google.colab.kernel.invokeFunction('convertToInteractive',\n",
              "                                                    [key], {});\n",
              "        if (!dataTable) return;\n",
              "\n",
              "        const docLinkHtml = 'Like what you see? Visit the ' +\n",
              "          '<a target=\"_blank\" href=https://colab.research.google.com/notebooks/data_table.ipynb>data table notebook</a>'\n",
              "          + ' to learn more about interactive tables.';\n",
              "        element.innerHTML = '';\n",
              "        dataTable['output_type'] = 'display_data';\n",
              "        await google.colab.output.renderOutput(dataTable, element);\n",
              "        const docLink = document.createElement('div');\n",
              "        docLink.innerHTML = docLinkHtml;\n",
              "        element.appendChild(docLink);\n",
              "      }\n",
              "    </script>\n",
              "  </div>\n",
              "\n",
              "\n",
              "<div id=\"df-7adcc7a1-2c46-4f83-b261-2883dd32cff5\">\n",
              "  <button class=\"colab-df-quickchart\" onclick=\"quickchart('df-7adcc7a1-2c46-4f83-b261-2883dd32cff5')\"\n",
              "            title=\"Suggest charts\"\n",
              "            style=\"display:none;\">\n",
              "\n",
              "<svg xmlns=\"http://www.w3.org/2000/svg\" height=\"24px\"viewBox=\"0 0 24 24\"\n",
              "     width=\"24px\">\n",
              "    <g>\n",
              "        <path d=\"M19 3H5c-1.1 0-2 .9-2 2v14c0 1.1.9 2 2 2h14c1.1 0 2-.9 2-2V5c0-1.1-.9-2-2-2zM9 17H7v-7h2v7zm4 0h-2V7h2v10zm4 0h-2v-4h2v4z\"/>\n",
              "    </g>\n",
              "</svg>\n",
              "  </button>\n",
              "\n",
              "<style>\n",
              "  .colab-df-quickchart {\n",
              "      --bg-color: #E8F0FE;\n",
              "      --fill-color: #1967D2;\n",
              "      --hover-bg-color: #E2EBFA;\n",
              "      --hover-fill-color: #174EA6;\n",
              "      --disabled-fill-color: #AAA;\n",
              "      --disabled-bg-color: #DDD;\n",
              "  }\n",
              "\n",
              "  [theme=dark] .colab-df-quickchart {\n",
              "      --bg-color: #3B4455;\n",
              "      --fill-color: #D2E3FC;\n",
              "      --hover-bg-color: #434B5C;\n",
              "      --hover-fill-color: #FFFFFF;\n",
              "      --disabled-bg-color: #3B4455;\n",
              "      --disabled-fill-color: #666;\n",
              "  }\n",
              "\n",
              "  .colab-df-quickchart {\n",
              "    background-color: var(--bg-color);\n",
              "    border: none;\n",
              "    border-radius: 50%;\n",
              "    cursor: pointer;\n",
              "    display: none;\n",
              "    fill: var(--fill-color);\n",
              "    height: 32px;\n",
              "    padding: 0;\n",
              "    width: 32px;\n",
              "  }\n",
              "\n",
              "  .colab-df-quickchart:hover {\n",
              "    background-color: var(--hover-bg-color);\n",
              "    box-shadow: 0 1px 2px rgba(60, 64, 67, 0.3), 0 1px 3px 1px rgba(60, 64, 67, 0.15);\n",
              "    fill: var(--button-hover-fill-color);\n",
              "  }\n",
              "\n",
              "  .colab-df-quickchart-complete:disabled,\n",
              "  .colab-df-quickchart-complete:disabled:hover {\n",
              "    background-color: var(--disabled-bg-color);\n",
              "    fill: var(--disabled-fill-color);\n",
              "    box-shadow: none;\n",
              "  }\n",
              "\n",
              "  .colab-df-spinner {\n",
              "    border: 2px solid var(--fill-color);\n",
              "    border-color: transparent;\n",
              "    border-bottom-color: var(--fill-color);\n",
              "    animation:\n",
              "      spin 1s steps(1) infinite;\n",
              "  }\n",
              "\n",
              "  @keyframes spin {\n",
              "    0% {\n",
              "      border-color: transparent;\n",
              "      border-bottom-color: var(--fill-color);\n",
              "      border-left-color: var(--fill-color);\n",
              "    }\n",
              "    20% {\n",
              "      border-color: transparent;\n",
              "      border-left-color: var(--fill-color);\n",
              "      border-top-color: var(--fill-color);\n",
              "    }\n",
              "    30% {\n",
              "      border-color: transparent;\n",
              "      border-left-color: var(--fill-color);\n",
              "      border-top-color: var(--fill-color);\n",
              "      border-right-color: var(--fill-color);\n",
              "    }\n",
              "    40% {\n",
              "      border-color: transparent;\n",
              "      border-right-color: var(--fill-color);\n",
              "      border-top-color: var(--fill-color);\n",
              "    }\n",
              "    60% {\n",
              "      border-color: transparent;\n",
              "      border-right-color: var(--fill-color);\n",
              "    }\n",
              "    80% {\n",
              "      border-color: transparent;\n",
              "      border-right-color: var(--fill-color);\n",
              "      border-bottom-color: var(--fill-color);\n",
              "    }\n",
              "    90% {\n",
              "      border-color: transparent;\n",
              "      border-bottom-color: var(--fill-color);\n",
              "    }\n",
              "  }\n",
              "</style>\n",
              "\n",
              "  <script>\n",
              "    async function quickchart(key) {\n",
              "      const quickchartButtonEl =\n",
              "        document.querySelector('#' + key + ' button');\n",
              "      quickchartButtonEl.disabled = true;  // To prevent multiple clicks.\n",
              "      quickchartButtonEl.classList.add('colab-df-spinner');\n",
              "      try {\n",
              "        const charts = await google.colab.kernel.invokeFunction(\n",
              "            'suggestCharts', [key], {});\n",
              "      } catch (error) {\n",
              "        console.error('Error during call to suggestCharts:', error);\n",
              "      }\n",
              "      quickchartButtonEl.classList.remove('colab-df-spinner');\n",
              "      quickchartButtonEl.classList.add('colab-df-quickchart-complete');\n",
              "    }\n",
              "    (() => {\n",
              "      let quickchartButtonEl =\n",
              "        document.querySelector('#df-7adcc7a1-2c46-4f83-b261-2883dd32cff5 button');\n",
              "      quickchartButtonEl.style.display =\n",
              "        google.colab.kernel.accessAllowed ? 'block' : 'none';\n",
              "    })();\n",
              "  </script>\n",
              "</div>\n",
              "    </div>\n",
              "  </div>\n"
            ],
            "application/vnd.google.colaboratory.intrinsic+json": {
              "type": "dataframe",
              "variable_name": "df",
              "summary": "{\n  \"name\": \"df\",\n  \"rows\": 10000,\n  \"fields\": [\n    {\n      \"column\": \"label\",\n      \"properties\": {\n        \"dtype\": \"category\",\n        \"num_unique_values\": 2,\n        \"samples\": [\n          \"0\",\n          \"1\"\n        ],\n        \"semantic_type\": \"\",\n        \"description\": \"\"\n      }\n    },\n    {\n      \"column\": \"tweet\",\n      \"properties\": {\n        \"dtype\": \"string\",\n        \"num_unique_values\": 10000,\n        \"samples\": [\n          \" I Know I'm in the Minority Here, But...: I'm so sorry to be such a spoilsport, but I found this is a terrible book and a worse series. Leaving aside all the wild inaccuracies - one of the main ones being Auel's portrayal of Neandertals as doltish brutes -the heroine is constantly making one earthshaking discovery after another - shampoo, domestication of animals, law of genetics, sex=pregnancy, and, last but not least, tampax. No one else can figure anything out, but there she is, churning out one Nobel-Laureate discovery after another. I'm sure in one of the later books she will be found making a short-wave radio out of a large rock. It became really maddening.\",\n          \" Disappointing: This is the 4th Clavell book I've read, I was more than a little disappointed. I've read them in order so far, Shogun and Tai-pan for me were breathtaking, long books which I sped through. Gai-jin was more of a chore, with not much of ending. I found King Rat dull, I think the story wasn't too interesting. Other customers have commented on how harsh the prison was - too be honest, I thought it would've been worse. The King had none of the charisma of the heroes in the other books, and I found myself not really caring whether or not either him or Marlowe made it. Although a lot was made of their inner feelings, this made me feel that they were both just shallow people.\"\n        ],\n        \"semantic_type\": \"\",\n        \"description\": \"\"\n      }\n    }\n  ]\n}"
            }
          },
          "metadata": {},
          "execution_count": 94
        }
      ],
      "source": [
        "df.head(9)"
      ]
    },
    {
      "cell_type": "code",
      "execution_count": null,
      "id": "b115ce87-1aaf-4b1d-be7e-a78480f6264c",
      "metadata": {
        "colab": {
          "base_uri": "https://localhost:8080/"
        },
        "id": "b115ce87-1aaf-4b1d-be7e-a78480f6264c",
        "outputId": "56ee668b-5ed7-4675-a8b9-8b99396ab3c2"
      },
      "outputs": [
        {
          "output_type": "execute_result",
          "data": {
            "text/plain": [
              "0    5097\n",
              "1    4903\n",
              "Name: label, dtype: int64"
            ]
          },
          "metadata": {},
          "execution_count": 95
        }
      ],
      "source": [
        "df['label'].value_counts()"
      ]
    },
    {
      "cell_type": "markdown",
      "source": [
        "### 4.1 Save review data"
      ],
      "metadata": {
        "id": "SzLJgVu_y_ZT"
      },
      "id": "SzLJgVu_y_ZT"
    },
    {
      "cell_type": "code",
      "source": [
        "df.to_csv(path_to_work_dir + \"Reviews.csv\", index=None)"
      ],
      "metadata": {
        "id": "_tP-Ij4O9CsQ"
      },
      "id": "_tP-Ij4O9CsQ",
      "execution_count": null,
      "outputs": []
    },
    {
      "cell_type": "markdown",
      "source": [
        "### 4.2 Load review data"
      ],
      "metadata": {
        "id": "qd4ywGQozI_J"
      },
      "id": "qd4ywGQozI_J"
    },
    {
      "cell_type": "code",
      "source": [
        "df = pd.read_csv(path_to_work_dir + \"Reviews.csv\")\n",
        "df.head(7)"
      ],
      "metadata": {
        "colab": {
          "base_uri": "https://localhost:8080/",
          "height": 269
        },
        "id": "VbrR8r9OAvhB",
        "outputId": "abc6efe3-5302-45e5-e70c-7086030e81ae"
      },
      "id": "VbrR8r9OAvhB",
      "execution_count": null,
      "outputs": [
        {
          "output_type": "execute_result",
          "data": {
            "text/plain": [
              "   label                                              tweet\n",
              "0      1   Stuning even for the non-gamer: This sound tr...\n",
              "1      1   The best soundtrack ever to anything.: I'm re...\n",
              "2      1   Amazing!: This soundtrack is my favorite musi...\n",
              "3      1   Excellent Soundtrack: I truly like this sound...\n",
              "4      1   Remember, Pull Your Jaw Off The Floor After H...\n",
              "5      1   an absolute masterpiece: I am quite sure any ...\n",
              "6      0   Buyer beware: This is a self-published book, ..."
            ],
            "text/html": [
              "\n",
              "  <div id=\"df-cb4d4510-31b8-430a-b5a0-39d78d41ae85\" class=\"colab-df-container\">\n",
              "    <div>\n",
              "<style scoped>\n",
              "    .dataframe tbody tr th:only-of-type {\n",
              "        vertical-align: middle;\n",
              "    }\n",
              "\n",
              "    .dataframe tbody tr th {\n",
              "        vertical-align: top;\n",
              "    }\n",
              "\n",
              "    .dataframe thead th {\n",
              "        text-align: right;\n",
              "    }\n",
              "</style>\n",
              "<table border=\"1\" class=\"dataframe\">\n",
              "  <thead>\n",
              "    <tr style=\"text-align: right;\">\n",
              "      <th></th>\n",
              "      <th>label</th>\n",
              "      <th>tweet</th>\n",
              "    </tr>\n",
              "  </thead>\n",
              "  <tbody>\n",
              "    <tr>\n",
              "      <th>0</th>\n",
              "      <td>1</td>\n",
              "      <td>Stuning even for the non-gamer: This sound tr...</td>\n",
              "    </tr>\n",
              "    <tr>\n",
              "      <th>1</th>\n",
              "      <td>1</td>\n",
              "      <td>The best soundtrack ever to anything.: I'm re...</td>\n",
              "    </tr>\n",
              "    <tr>\n",
              "      <th>2</th>\n",
              "      <td>1</td>\n",
              "      <td>Amazing!: This soundtrack is my favorite musi...</td>\n",
              "    </tr>\n",
              "    <tr>\n",
              "      <th>3</th>\n",
              "      <td>1</td>\n",
              "      <td>Excellent Soundtrack: I truly like this sound...</td>\n",
              "    </tr>\n",
              "    <tr>\n",
              "      <th>4</th>\n",
              "      <td>1</td>\n",
              "      <td>Remember, Pull Your Jaw Off The Floor After H...</td>\n",
              "    </tr>\n",
              "    <tr>\n",
              "      <th>5</th>\n",
              "      <td>1</td>\n",
              "      <td>an absolute masterpiece: I am quite sure any ...</td>\n",
              "    </tr>\n",
              "    <tr>\n",
              "      <th>6</th>\n",
              "      <td>0</td>\n",
              "      <td>Buyer beware: This is a self-published book, ...</td>\n",
              "    </tr>\n",
              "  </tbody>\n",
              "</table>\n",
              "</div>\n",
              "    <div class=\"colab-df-buttons\">\n",
              "\n",
              "  <div class=\"colab-df-container\">\n",
              "    <button class=\"colab-df-convert\" onclick=\"convertToInteractive('df-cb4d4510-31b8-430a-b5a0-39d78d41ae85')\"\n",
              "            title=\"Convert this dataframe to an interactive table.\"\n",
              "            style=\"display:none;\">\n",
              "\n",
              "  <svg xmlns=\"http://www.w3.org/2000/svg\" height=\"24px\" viewBox=\"0 -960 960 960\">\n",
              "    <path d=\"M120-120v-720h720v720H120Zm60-500h600v-160H180v160Zm220 220h160v-160H400v160Zm0 220h160v-160H400v160ZM180-400h160v-160H180v160Zm440 0h160v-160H620v160ZM180-180h160v-160H180v160Zm440 0h160v-160H620v160Z\"/>\n",
              "  </svg>\n",
              "    </button>\n",
              "\n",
              "  <style>\n",
              "    .colab-df-container {\n",
              "      display:flex;\n",
              "      gap: 12px;\n",
              "    }\n",
              "\n",
              "    .colab-df-convert {\n",
              "      background-color: #E8F0FE;\n",
              "      border: none;\n",
              "      border-radius: 50%;\n",
              "      cursor: pointer;\n",
              "      display: none;\n",
              "      fill: #1967D2;\n",
              "      height: 32px;\n",
              "      padding: 0 0 0 0;\n",
              "      width: 32px;\n",
              "    }\n",
              "\n",
              "    .colab-df-convert:hover {\n",
              "      background-color: #E2EBFA;\n",
              "      box-shadow: 0px 1px 2px rgba(60, 64, 67, 0.3), 0px 1px 3px 1px rgba(60, 64, 67, 0.15);\n",
              "      fill: #174EA6;\n",
              "    }\n",
              "\n",
              "    .colab-df-buttons div {\n",
              "      margin-bottom: 4px;\n",
              "    }\n",
              "\n",
              "    [theme=dark] .colab-df-convert {\n",
              "      background-color: #3B4455;\n",
              "      fill: #D2E3FC;\n",
              "    }\n",
              "\n",
              "    [theme=dark] .colab-df-convert:hover {\n",
              "      background-color: #434B5C;\n",
              "      box-shadow: 0px 1px 3px 1px rgba(0, 0, 0, 0.15);\n",
              "      filter: drop-shadow(0px 1px 2px rgba(0, 0, 0, 0.3));\n",
              "      fill: #FFFFFF;\n",
              "    }\n",
              "  </style>\n",
              "\n",
              "    <script>\n",
              "      const buttonEl =\n",
              "        document.querySelector('#df-cb4d4510-31b8-430a-b5a0-39d78d41ae85 button.colab-df-convert');\n",
              "      buttonEl.style.display =\n",
              "        google.colab.kernel.accessAllowed ? 'block' : 'none';\n",
              "\n",
              "      async function convertToInteractive(key) {\n",
              "        const element = document.querySelector('#df-cb4d4510-31b8-430a-b5a0-39d78d41ae85');\n",
              "        const dataTable =\n",
              "          await google.colab.kernel.invokeFunction('convertToInteractive',\n",
              "                                                    [key], {});\n",
              "        if (!dataTable) return;\n",
              "\n",
              "        const docLinkHtml = 'Like what you see? Visit the ' +\n",
              "          '<a target=\"_blank\" href=https://colab.research.google.com/notebooks/data_table.ipynb>data table notebook</a>'\n",
              "          + ' to learn more about interactive tables.';\n",
              "        element.innerHTML = '';\n",
              "        dataTable['output_type'] = 'display_data';\n",
              "        await google.colab.output.renderOutput(dataTable, element);\n",
              "        const docLink = document.createElement('div');\n",
              "        docLink.innerHTML = docLinkHtml;\n",
              "        element.appendChild(docLink);\n",
              "      }\n",
              "    </script>\n",
              "  </div>\n",
              "\n",
              "\n",
              "<div id=\"df-ade7fd40-47ef-40eb-8272-45423c1061c8\">\n",
              "  <button class=\"colab-df-quickchart\" onclick=\"quickchart('df-ade7fd40-47ef-40eb-8272-45423c1061c8')\"\n",
              "            title=\"Suggest charts\"\n",
              "            style=\"display:none;\">\n",
              "\n",
              "<svg xmlns=\"http://www.w3.org/2000/svg\" height=\"24px\"viewBox=\"0 0 24 24\"\n",
              "     width=\"24px\">\n",
              "    <g>\n",
              "        <path d=\"M19 3H5c-1.1 0-2 .9-2 2v14c0 1.1.9 2 2 2h14c1.1 0 2-.9 2-2V5c0-1.1-.9-2-2-2zM9 17H7v-7h2v7zm4 0h-2V7h2v10zm4 0h-2v-4h2v4z\"/>\n",
              "    </g>\n",
              "</svg>\n",
              "  </button>\n",
              "\n",
              "<style>\n",
              "  .colab-df-quickchart {\n",
              "      --bg-color: #E8F0FE;\n",
              "      --fill-color: #1967D2;\n",
              "      --hover-bg-color: #E2EBFA;\n",
              "      --hover-fill-color: #174EA6;\n",
              "      --disabled-fill-color: #AAA;\n",
              "      --disabled-bg-color: #DDD;\n",
              "  }\n",
              "\n",
              "  [theme=dark] .colab-df-quickchart {\n",
              "      --bg-color: #3B4455;\n",
              "      --fill-color: #D2E3FC;\n",
              "      --hover-bg-color: #434B5C;\n",
              "      --hover-fill-color: #FFFFFF;\n",
              "      --disabled-bg-color: #3B4455;\n",
              "      --disabled-fill-color: #666;\n",
              "  }\n",
              "\n",
              "  .colab-df-quickchart {\n",
              "    background-color: var(--bg-color);\n",
              "    border: none;\n",
              "    border-radius: 50%;\n",
              "    cursor: pointer;\n",
              "    display: none;\n",
              "    fill: var(--fill-color);\n",
              "    height: 32px;\n",
              "    padding: 0;\n",
              "    width: 32px;\n",
              "  }\n",
              "\n",
              "  .colab-df-quickchart:hover {\n",
              "    background-color: var(--hover-bg-color);\n",
              "    box-shadow: 0 1px 2px rgba(60, 64, 67, 0.3), 0 1px 3px 1px rgba(60, 64, 67, 0.15);\n",
              "    fill: var(--button-hover-fill-color);\n",
              "  }\n",
              "\n",
              "  .colab-df-quickchart-complete:disabled,\n",
              "  .colab-df-quickchart-complete:disabled:hover {\n",
              "    background-color: var(--disabled-bg-color);\n",
              "    fill: var(--disabled-fill-color);\n",
              "    box-shadow: none;\n",
              "  }\n",
              "\n",
              "  .colab-df-spinner {\n",
              "    border: 2px solid var(--fill-color);\n",
              "    border-color: transparent;\n",
              "    border-bottom-color: var(--fill-color);\n",
              "    animation:\n",
              "      spin 1s steps(1) infinite;\n",
              "  }\n",
              "\n",
              "  @keyframes spin {\n",
              "    0% {\n",
              "      border-color: transparent;\n",
              "      border-bottom-color: var(--fill-color);\n",
              "      border-left-color: var(--fill-color);\n",
              "    }\n",
              "    20% {\n",
              "      border-color: transparent;\n",
              "      border-left-color: var(--fill-color);\n",
              "      border-top-color: var(--fill-color);\n",
              "    }\n",
              "    30% {\n",
              "      border-color: transparent;\n",
              "      border-left-color: var(--fill-color);\n",
              "      border-top-color: var(--fill-color);\n",
              "      border-right-color: var(--fill-color);\n",
              "    }\n",
              "    40% {\n",
              "      border-color: transparent;\n",
              "      border-right-color: var(--fill-color);\n",
              "      border-top-color: var(--fill-color);\n",
              "    }\n",
              "    60% {\n",
              "      border-color: transparent;\n",
              "      border-right-color: var(--fill-color);\n",
              "    }\n",
              "    80% {\n",
              "      border-color: transparent;\n",
              "      border-right-color: var(--fill-color);\n",
              "      border-bottom-color: var(--fill-color);\n",
              "    }\n",
              "    90% {\n",
              "      border-color: transparent;\n",
              "      border-bottom-color: var(--fill-color);\n",
              "    }\n",
              "  }\n",
              "</style>\n",
              "\n",
              "  <script>\n",
              "    async function quickchart(key) {\n",
              "      const quickchartButtonEl =\n",
              "        document.querySelector('#' + key + ' button');\n",
              "      quickchartButtonEl.disabled = true;  // To prevent multiple clicks.\n",
              "      quickchartButtonEl.classList.add('colab-df-spinner');\n",
              "      try {\n",
              "        const charts = await google.colab.kernel.invokeFunction(\n",
              "            'suggestCharts', [key], {});\n",
              "      } catch (error) {\n",
              "        console.error('Error during call to suggestCharts:', error);\n",
              "      }\n",
              "      quickchartButtonEl.classList.remove('colab-df-spinner');\n",
              "      quickchartButtonEl.classList.add('colab-df-quickchart-complete');\n",
              "    }\n",
              "    (() => {\n",
              "      let quickchartButtonEl =\n",
              "        document.querySelector('#df-ade7fd40-47ef-40eb-8272-45423c1061c8 button');\n",
              "      quickchartButtonEl.style.display =\n",
              "        google.colab.kernel.accessAllowed ? 'block' : 'none';\n",
              "    })();\n",
              "  </script>\n",
              "</div>\n",
              "    </div>\n",
              "  </div>\n"
            ],
            "application/vnd.google.colaboratory.intrinsic+json": {
              "type": "dataframe",
              "variable_name": "df",
              "summary": "{\n  \"name\": \"df\",\n  \"rows\": 10000,\n  \"fields\": [\n    {\n      \"column\": \"label\",\n      \"properties\": {\n        \"dtype\": \"number\",\n        \"std\": 0,\n        \"min\": 0,\n        \"max\": 1,\n        \"num_unique_values\": 2,\n        \"samples\": [\n          0,\n          1\n        ],\n        \"semantic_type\": \"\",\n        \"description\": \"\"\n      }\n    },\n    {\n      \"column\": \"tweet\",\n      \"properties\": {\n        \"dtype\": \"string\",\n        \"num_unique_values\": 10000,\n        \"samples\": [\n          \" I Know I'm in the Minority Here, But...: I'm so sorry to be such a spoilsport, but I found this is a terrible book and a worse series. Leaving aside all the wild inaccuracies - one of the main ones being Auel's portrayal of Neandertals as doltish brutes -the heroine is constantly making one earthshaking discovery after another - shampoo, domestication of animals, law of genetics, sex=pregnancy, and, last but not least, tampax. No one else can figure anything out, but there she is, churning out one Nobel-Laureate discovery after another. I'm sure in one of the later books she will be found making a short-wave radio out of a large rock. It became really maddening.\",\n          \" Disappointing: This is the 4th Clavell book I've read, I was more than a little disappointed. I've read them in order so far, Shogun and Tai-pan for me were breathtaking, long books which I sped through. Gai-jin was more of a chore, with not much of ending. I found King Rat dull, I think the story wasn't too interesting. Other customers have commented on how harsh the prison was - too be honest, I thought it would've been worse. The King had none of the charisma of the heroes in the other books, and I found myself not really caring whether or not either him or Marlowe made it. Although a lot was made of their inner feelings, this made me feel that they were both just shallow people.\"\n        ],\n        \"semantic_type\": \"\",\n        \"description\": \"\"\n      }\n    }\n  ]\n}"
            }
          },
          "metadata": {},
          "execution_count": 325
        }
      ]
    },
    {
      "cell_type": "markdown",
      "source": [
        "## 5 Split data"
      ],
      "metadata": {
        "id": "OS0p7mmVzP3C"
      },
      "id": "OS0p7mmVzP3C"
    },
    {
      "cell_type": "code",
      "source": [
        "x_train, x_test, y_train, y_test = train_test_split(df,\n",
        "                                                    df['label'],\n",
        "                                                    test_size=0.2,\n",
        "                                                    random_state=42)"
      ],
      "metadata": {
        "id": "sVC4L8iSVN3E"
      },
      "id": "sVC4L8iSVN3E",
      "execution_count": null,
      "outputs": []
    },
    {
      "cell_type": "markdown",
      "source": [
        "### 5.1. Save split data"
      ],
      "metadata": {
        "id": "Fi7WXaG7z895"
      },
      "id": "Fi7WXaG7z895"
    },
    {
      "cell_type": "code",
      "source": [
        "# save test\n",
        "x_test.to_csv(path_to_work_dir + \"X_test.csv\", index=None)\n",
        "y_test.to_csv(path_to_work_dir + \"y_test.csv\", index=None)\n",
        "\n",
        "# save train\n",
        "x_train.to_csv(path_to_work_dir + \"X_train.csv\", index=None)\n",
        "y_train.to_csv(path_to_work_dir + \"y_train.csv\", index=None)"
      ],
      "metadata": {
        "id": "qcZGjimuzSmc"
      },
      "id": "qcZGjimuzSmc",
      "execution_count": null,
      "outputs": []
    },
    {
      "cell_type": "markdown",
      "source": [
        "### 5.2 Load split data"
      ],
      "metadata": {
        "id": "Aq3Ut4-D0BTe"
      },
      "id": "Aq3Ut4-D0BTe"
    },
    {
      "cell_type": "code",
      "source": [
        "x_train = pd.read_csv(path_to_work_dir + \"X_train.csv\")\n",
        "y_train = pd.read_csv(path_to_work_dir + \"y_train.csv\")\n",
        "\n",
        "x_test = pd.read_csv(path_to_work_dir + \"X_test.csv\")\n",
        "y_test = pd.read_csv(path_to_work_dir + \"y_test.csv\")"
      ],
      "metadata": {
        "id": "87HmyNX2zfUa"
      },
      "id": "87HmyNX2zfUa",
      "execution_count": null,
      "outputs": []
    },
    {
      "cell_type": "markdown",
      "source": [
        "# III PIPELINE"
      ],
      "metadata": {
        "id": "bh7A2NpL0GbU"
      },
      "id": "bh7A2NpL0GbU"
    },
    {
      "cell_type": "markdown",
      "source": [
        "## 6 Make Pipeline"
      ],
      "metadata": {
        "id": "DY8tFXyP0MM0"
      },
      "id": "DY8tFXyP0MM0"
    },
    {
      "cell_type": "code",
      "source": [
        "vectorizer_params_high = {\n",
        "    \"TfidfVectorizer\" : {\n",
        "        \"ngram_range\": (1, 1),\n",
        "        \"analyzer\": \"word\",\n",
        "        \"stop_words\": \"english\",\n",
        "        \"min_df\": 0.3\n",
        "    }\n",
        "}\n",
        "\n",
        "vectorizer_params_middle = {\n",
        "    \"TfidfVectorizer\" : {\n",
        "        \"ngram_range\": (1, 1),\n",
        "        \"analyzer\": \"word\",\n",
        "        \"stop_words\": \"english\",\n",
        "        \"min_df\": 0.1,\n",
        "        \"max_df\": 0.3\n",
        "    }\n",
        "}\n",
        "\n",
        "vectorizer_params_min = {\n",
        "    \"TfidfVectorizer\" : {\n",
        "        \"ngram_range\": (1, 1),\n",
        "        \"analyzer\": \"word\",\n",
        "        \"stop_words\": \"english\",\n",
        "        \"max_df\": 0.1\n",
        "    }\n",
        "}"
      ],
      "metadata": {
        "id": "0wKMYESXuDtG"
      },
      "id": "0wKMYESXuDtG",
      "execution_count": null,
      "outputs": []
    },
    {
      "cell_type": "code",
      "source": [
        "Pipe_high = Pipeline([(\"clntxt\", CleanText(key=\"tweet\")),\n",
        "                    (\"tfidf\", TfidfVectorizer(**vectorizer_params_high['TfidfVectorizer']))])\n"
      ],
      "metadata": {
        "id": "bmyvs3qfkf3p"
      },
      "id": "bmyvs3qfkf3p",
      "execution_count": null,
      "outputs": []
    },
    {
      "cell_type": "code",
      "source": [
        "\n",
        "Pipe_middle = Pipeline([(\"clntxt\", CleanText(key=\"tweet\")),\n",
        "                    (\"tfidf\", TfidfVectorizer(**vectorizer_params_middle['TfidfVectorizer']))])\n"
      ],
      "metadata": {
        "id": "kCM-2xD901zf"
      },
      "id": "kCM-2xD901zf",
      "execution_count": null,
      "outputs": []
    },
    {
      "cell_type": "code",
      "source": [
        "\n",
        "Pipe_min = Pipeline([(\"clntxt\", CleanText(key=\"tweet\")),\n",
        "                    (\"tfidf\", TfidfVectorizer(**vectorizer_params_min['TfidfVectorizer']))])"
      ],
      "metadata": {
        "id": "aTxCbMvm02pf"
      },
      "id": "aTxCbMvm02pf",
      "execution_count": null,
      "outputs": []
    },
    {
      "cell_type": "markdown",
      "source": [
        "## 7 Create models params"
      ],
      "metadata": {
        "id": "_aC8bn9dyfTS"
      },
      "id": "_aC8bn9dyfTS"
    },
    {
      "cell_type": "code",
      "source": [
        "model_params = {\n",
        "    'LogisticRegression': {\n",
        "        'class_weight': 'balanced',\n",
        "        'fit_intercept': True,\n",
        "    },\n",
        "    'XGBRFRegressor': {\n",
        "        'verbosity': 1,\n",
        "        \"max_depth\": 13,\n",
        "        'booster': 'gbtree',\n",
        "        'eval_metric': 'auc',\n",
        "        'subsample': 0.5,\n",
        "        'sampling_method': 'uniform',\n",
        "    },\n",
        "    'RandomForestRegressor': {\n",
        "        'n_jobs': -1,\n",
        "        'n_estimators': 100,\n",
        "        'criterion': 'friedman_mse',\n",
        "        'max_depth': 5,\n",
        "        'min_samples_leaf': 1,\n",
        "        'max_features': 'sqrt',\n",
        "        'bootstrap': True\n",
        "    }\n",
        "}"
      ],
      "metadata": {
        "id": "86vT1ExKy8LX"
      },
      "id": "86vT1ExKy8LX",
      "execution_count": null,
      "outputs": []
    },
    {
      "cell_type": "markdown",
      "source": [
        "# IV LogReg"
      ],
      "metadata": {
        "id": "zHtEAHvGudqK"
      },
      "id": "zHtEAHvGudqK"
    },
    {
      "cell_type": "markdown",
      "source": [
        "## 8 Learning model"
      ],
      "metadata": {
        "id": "CHtzOK9P0SkI"
      },
      "id": "CHtzOK9P0SkI"
    },
    {
      "cell_type": "markdown",
      "source": [
        "### 8.1 Learn with high frequency"
      ],
      "metadata": {
        "id": "fS4t5cPrkRct"
      },
      "id": "fS4t5cPrkRct"
    },
    {
      "cell_type": "code",
      "source": [
        "model_logreg_high = model_learning(Pipe_high,\n",
        "                              LogisticRegression, model_params,\n",
        "                              x_train, x_test, y_train, y_test)"
      ],
      "metadata": {
        "id": "nfq-Rap0bT1y",
        "colab": {
          "base_uri": "https://localhost:8080/"
        },
        "outputId": "f3bb7c86-26cd-4efb-ff4f-8fcc0a1efa20"
      },
      "id": "nfq-Rap0bT1y",
      "execution_count": null,
      "outputs": [
        {
          "output_type": "stream",
          "name": "stderr",
          "text": [
            "/usr/local/lib/python3.10/dist-packages/sklearn/utils/validation.py:1143: DataConversionWarning: A column-vector y was passed when a 1d array was expected. Please change the shape of y to (n_samples, ), for example using ravel().\n",
            "  y = column_or_1d(y, warn=True)\n"
          ]
        }
      ]
    },
    {
      "cell_type": "markdown",
      "source": [
        "#### 8.1.1 ROC curve plot"
      ],
      "metadata": {
        "id": "p5XoDmNA0Yt4"
      },
      "id": "p5XoDmNA0Yt4"
    },
    {
      "cell_type": "code",
      "source": [
        "model_logreg_high_metrics = Calc_of_metrics_and_Roc_Auc(model_logreg_high['model'], model_logreg_high['y_true_proba'],\n",
        "                                                    model_logreg_high['y_true_predict'],\n",
        "                                                    x_train, x_test, y_train, y_test)"
      ],
      "metadata": {
        "colab": {
          "base_uri": "https://localhost:8080/",
          "height": 817
        },
        "id": "xpOGlhNLjOZN",
        "outputId": "978ca290-202a-4148-db61-9bddb4feb555"
      },
      "id": "xpOGlhNLjOZN",
      "execution_count": null,
      "outputs": [
        {
          "output_type": "stream",
          "name": "stdout",
          "text": [
            "Best Threshold=0.485, F-Score=0.650, Precision=0.481, Recall=1.000\n",
            "\n",
            " ************************************************** \n",
            "\n"
          ]
        },
        {
          "output_type": "display_data",
          "data": {
            "text/plain": [
              "<Figure size 1000x800 with 1 Axes>"
            ],
            "image/png": "[encoded data removed]"
          },
          "metadata": {}
        }
      ]
    },
    {
      "cell_type": "markdown",
      "source": [
        "#### 8.1.2 Cnfusion matrix plot"
      ],
      "metadata": {
        "id": "HPuGLstW0dvr"
      },
      "id": "HPuGLstW0dvr"
    },
    {
      "cell_type": "code",
      "source": [
        "font = {'size' : 15}\n",
        "\n",
        "plt.rc('font', **font)\n",
        "\n",
        "cnf_matrix_logreg_high = confusion_matrix(y_test,\n",
        "                                     model_logreg_high['y_true_predict'] > model_logreg_high_metrics['Thresholds'])\n",
        "plt.figure(figsize=(10, 8))\n",
        "plot_confusion_matrix(cnf_matrix_logreg_high, classes=['positive', 'negative'],\n",
        "                      title='Confusion matrix')\n",
        "plt.savefig(\"conf_matrix.png\")\n",
        "plt.show()"
      ],
      "metadata": {
        "colab": {
          "base_uri": "https://localhost:8080/",
          "height": 874
        },
        "id": "hGzwxXZcjR5o",
        "outputId": "1752af0e-fdbd-439c-cf89-2612690eab1a"
      },
      "id": "hGzwxXZcjR5o",
      "execution_count": null,
      "outputs": [
        {
          "output_type": "stream",
          "name": "stdout",
          "text": [
            "Confusion matrix, without normalization\n",
            "[[744 293]\n",
            " [641 322]]\n"
          ]
        },
        {
          "output_type": "display_data",
          "data": {
            "text/plain": [
              "<Figure size 1000x800 with 2 Axes>"
            ],
            "image/png": "[encoded data removed]"
          },
          "metadata": {}
        }
      ]
    },
    {
      "cell_type": "markdown",
      "source": [
        "### 8.2 Learn with middle frequency"
      ],
      "metadata": {
        "id": "fk8Twcqozw2Z"
      },
      "id": "fk8Twcqozw2Z"
    },
    {
      "cell_type": "code",
      "source": [
        "model_logreg_middle = model_learning(Pipe_middle,\n",
        "                              LogisticRegression, model_params,\n",
        "                              x_train, x_test, y_train, y_test)"
      ],
      "metadata": {
        "colab": {
          "base_uri": "https://localhost:8080/"
        },
        "id": "Ts23O0T10QcT",
        "outputId": "90a224bf-daad-4cda-d621-c1ba2ea7f072"
      },
      "id": "Ts23O0T10QcT",
      "execution_count": null,
      "outputs": [
        {
          "output_type": "stream",
          "name": "stderr",
          "text": [
            "/usr/local/lib/python3.10/dist-packages/sklearn/utils/validation.py:1143: DataConversionWarning: A column-vector y was passed when a 1d array was expected. Please change the shape of y to (n_samples, ), for example using ravel().\n",
            "  y = column_or_1d(y, warn=True)\n"
          ]
        }
      ]
    },
    {
      "cell_type": "markdown",
      "source": [
        "#### 8.2.1 ROC curve plot"
      ],
      "metadata": {
        "id": "c1UpbDO5GqSu"
      },
      "id": "c1UpbDO5GqSu"
    },
    {
      "cell_type": "code",
      "source": [
        "model_logreg_middle_metrics = Calc_of_metrics_and_Roc_Auc(model_logreg_middle['model'],\n",
        "                                                        model_logreg_middle['y_true_proba'],\n",
        "                                                        model_logreg_middle['y_true_predict'],\n",
        "                                                        x_train, x_test, y_train, y_test)"
      ],
      "metadata": {
        "colab": {
          "base_uri": "https://localhost:8080/",
          "height": 817
        },
        "id": "rdSntnS83zAs",
        "outputId": "89b7940d-5a6f-4a81-bbed-42b352588eca"
      },
      "id": "rdSntnS83zAs",
      "execution_count": null,
      "outputs": [
        {
          "output_type": "stream",
          "name": "stdout",
          "text": [
            "Best Threshold=0.361, F-Score=0.665, Precision=0.534, Recall=0.880\n",
            "\n",
            " ************************************************** \n",
            "\n"
          ]
        },
        {
          "output_type": "display_data",
          "data": {
            "text/plain": [
              "<Figure size 1000x800 with 1 Axes>"
            ],
            "image/png": "[encoded data removed]"
          },
          "metadata": {}
        }
      ]
    },
    {
      "cell_type": "markdown",
      "source": [
        "#### 8.2.2 Cnfusion matrix plot"
      ],
      "metadata": {
        "id": "8C_Yb2_KGx2M"
      },
      "id": "8C_Yb2_KGx2M"
    },
    {
      "cell_type": "code",
      "source": [
        "font = {'size' : 15}\n",
        "\n",
        "plt.rc('font', **font)\n",
        "\n",
        "cnf_matrix_logreg_middle = confusion_matrix(y_test,\n",
        "                                     model_logreg_middle['y_true_predict'] > model_logreg_middle_metrics['Thresholds'])\n",
        "plt.figure(figsize=(10, 8))\n",
        "plot_confusion_matrix(cnf_matrix_logreg_middle, classes=['positive', 'negative'],\n",
        "                      title='Confusion matrix')\n",
        "plt.savefig(\"conf_matrix.png\")\n",
        "plt.show()"
      ],
      "metadata": {
        "colab": {
          "base_uri": "https://localhost:8080/",
          "height": 874
        },
        "id": "tdrv4uLIG1u-",
        "outputId": "c40bb95e-92d3-4552-d2f6-ca65083baffb"
      },
      "id": "tdrv4uLIG1u-",
      "execution_count": null,
      "outputs": [
        {
          "output_type": "stream",
          "name": "stdout",
          "text": [
            "Confusion matrix, without normalization\n",
            "[[781 256]\n",
            " [443 520]]\n"
          ]
        },
        {
          "output_type": "display_data",
          "data": {
            "text/plain": [
              "<Figure size 1000x800 with 2 Axes>"
            ],
            "image/png": "[encoded data removed]"
          },
          "metadata": {}
        }
      ]
    },
    {
      "cell_type": "markdown",
      "source": [
        "### 8.3 Learn with lower frequency"
      ],
      "metadata": {
        "id": "gCnPW6lOHN5H"
      },
      "id": "gCnPW6lOHN5H"
    },
    {
      "cell_type": "code",
      "source": [
        "model_logreg_lower = model_learning(Pipe_min,\n",
        "                              LogisticRegression, model_params,\n",
        "                              x_train, x_test, y_train, y_test)"
      ],
      "metadata": {
        "colab": {
          "base_uri": "https://localhost:8080/"
        },
        "id": "ITTiiWzBHWBr",
        "outputId": "ad1cfa71-2977-490b-d00d-c8f603f976ef"
      },
      "id": "ITTiiWzBHWBr",
      "execution_count": null,
      "outputs": [
        {
          "output_type": "stream",
          "name": "stderr",
          "text": [
            "/usr/local/lib/python3.10/dist-packages/sklearn/utils/validation.py:1143: DataConversionWarning: A column-vector y was passed when a 1d array was expected. Please change the shape of y to (n_samples, ), for example using ravel().\n",
            "  y = column_or_1d(y, warn=True)\n"
          ]
        }
      ]
    },
    {
      "cell_type": "markdown",
      "source": [
        "#### 8.3.1 ROC curve plot"
      ],
      "metadata": {
        "id": "jGAjTfk5HWcV"
      },
      "id": "jGAjTfk5HWcV"
    },
    {
      "cell_type": "code",
      "source": [
        "model_logreg_lower_metrics = Calc_of_metrics_and_Roc_Auc(model_logreg_lower['model'],\n",
        "                                                        model_logreg_lower['y_true_proba'],\n",
        "                                                        model_logreg_lower['y_true_predict'],\n",
        "                                                        x_train, x_test, y_train, y_test)"
      ],
      "metadata": {
        "colab": {
          "base_uri": "https://localhost:8080/",
          "height": 817
        },
        "id": "NIfhfkgOHWhj",
        "outputId": "312207ae-83e2-41de-d4f2-88ea1c936191"
      },
      "id": "NIfhfkgOHWhj",
      "execution_count": null,
      "outputs": [
        {
          "output_type": "stream",
          "name": "stdout",
          "text": [
            "Best Threshold=0.470, F-Score=0.840, Precision=0.799, Recall=0.886\n",
            "\n",
            " ************************************************** \n",
            "\n"
          ]
        },
        {
          "output_type": "display_data",
          "data": {
            "text/plain": [
              "<Figure size 1000x800 with 1 Axes>"
            ],
            "image/png": "[encoded data removed]"
          },
          "metadata": {}
        }
      ]
    },
    {
      "cell_type": "markdown",
      "source": [
        "#### 8.3.2 Cnfusion matrix plot"
      ],
      "metadata": {
        "id": "EdUJo4tGHWnT"
      },
      "id": "EdUJo4tGHWnT"
    },
    {
      "cell_type": "code",
      "source": [
        "font = {'size' : 15}\n",
        "\n",
        "plt.rc('font', **font)\n",
        "\n",
        "cnf_matrix_logreg_lower = confusion_matrix(y_test,\n",
        "                                     model_logreg_lower['y_true_predict'] > model_logreg_lower_metrics['Thresholds'])\n",
        "plt.figure(figsize=(10, 8))\n",
        "plot_confusion_matrix(cnf_matrix_logreg_lower, classes=['positive', 'negative'],\n",
        "                      title='Confusion matrix')\n",
        "plt.savefig(\"conf_matrix.png\")\n",
        "plt.show()"
      ],
      "metadata": {
        "colab": {
          "base_uri": "https://localhost:8080/",
          "height": 874
        },
        "id": "c2XBm654Hw9X",
        "outputId": "6f1f4793-1e9d-44a1-8e43-e37eae795ae1"
      },
      "id": "c2XBm654Hw9X",
      "execution_count": null,
      "outputs": [
        {
          "output_type": "stream",
          "name": "stdout",
          "text": [
            "Confusion matrix, without normalization\n",
            "[[853 184]\n",
            " [154 809]]\n"
          ]
        },
        {
          "output_type": "display_data",
          "data": {
            "text/plain": [
              "<Figure size 1000x800 with 2 Axes>"
            ],
            "image/png": "[encoded data removed]"
          },
          "metadata": {}
        }
      ]
    },
    {
      "cell_type": "markdown",
      "source": [
        "## 9 SAVE Logreg model"
      ],
      "metadata": {
        "id": "khTG-NcF00TW"
      },
      "id": "khTG-NcF00TW"
    },
    {
      "cell_type": "code",
      "source": [
        "save_model_dill(path_to_work_dir + \"LOGREG.dill\", model_logreg_lower['model'])"
      ],
      "metadata": {
        "id": "iuf-fwjA_Lp1"
      },
      "id": "iuf-fwjA_Lp1",
      "execution_count": null,
      "outputs": []
    },
    {
      "cell_type": "markdown",
      "source": [
        "## 10 Testing of model"
      ],
      "metadata": {
        "id": "-WU1cTd30t_H"
      },
      "id": "-WU1cTd30t_H"
    },
    {
      "cell_type": "markdown",
      "source": [
        "### 10.1 LOAD Logreg model"
      ],
      "metadata": {
        "id": "jPXuQErlt9Xm"
      },
      "id": "jPXuQErlt9Xm"
    },
    {
      "cell_type": "code",
      "source": [
        "load_model_logreg = load_model_dill(path_to_work_dir + \"LOGREG.dill\")"
      ],
      "metadata": {
        "id": "7OjAXj4gsZus"
      },
      "id": "7OjAXj4gsZus",
      "execution_count": null,
      "outputs": []
    },
    {
      "cell_type": "markdown",
      "source": [
        "### 10.2 Testing model"
      ],
      "metadata": {
        "id": "VO4lf6eNqLn6"
      },
      "id": "VO4lf6eNqLn6"
    },
    {
      "cell_type": "code",
      "source": [
        "a = 'Not so good - ok for a rental!: This 44game is pretty exciting and it is \\\n",
        "very nice and it is really creative and one of a kind234234. The only bad thing is \\\n",
        "that there is only one \"castle\" for the kids to \"decorate\" and once you are \\\n",
        "done with the whole castle that is basically it. You either have to create a \\\n",
        "new username for yourself to do it all over again or you get another game like \\\n",
        "I did. My sister finished the \"castle in about 2 hours and after that has \\\n",
        "never even looked at this game anymore. It is a nice game and it is fun but \\\n",
        "it is not really worth that much money.'\n",
        "b = \"A FIVE STAR BOOK: I just finished reading Whisper of the Wicked saints. \\\n",
        "I fell in love with the caracters. I expected an average romance read, but \\\n",
        "instead I found one of my favorite books of all time. Just when I thought I \\\n",
        "could predict the outcome I was shocked ! The writting was so descriptive \\\n",
        "that my heart broke when Julia's did and I felt as if I was there with them \\\n",
        "instead of just a distant reader. If you are a lover of romance novels then \\\n",
        "this is a must read. Don't let the cover fool you this book is spectacular!\""
      ],
      "metadata": {
        "id": "SiGoBoYwwPJ6"
      },
      "id": "SiGoBoYwwPJ6",
      "execution_count": null,
      "outputs": []
    },
    {
      "cell_type": "code",
      "source": [
        "A = pd.DataFrame([a, b], columns=[\"tweet\"])"
      ],
      "metadata": {
        "id": "TxzBxdug9Pd1"
      },
      "id": "TxzBxdug9Pd1",
      "execution_count": null,
      "outputs": []
    },
    {
      "cell_type": "code",
      "source": [
        "load_model_logreg.predict_proba(A)[:,1]"
      ],
      "metadata": {
        "colab": {
          "base_uri": "https://localhost:8080/"
        },
        "id": "SGg2UgK-tZ6I",
        "outputId": "265e4996-a58a-42b3-e47f-c432d55655c4"
      },
      "id": "SGg2UgK-tZ6I",
      "execution_count": null,
      "outputs": [
        {
          "output_type": "execute_result",
          "data": {
            "text/plain": [
              "array([0.33518285, 0.37981568])"
            ]
          },
          "metadata": {},
          "execution_count": 154
        }
      ]
    },
    {
      "cell_type": "code",
      "source": [
        "y_test.iloc[:25].values.T[0]"
      ],
      "metadata": {
        "colab": {
          "base_uri": "https://localhost:8080/"
        },
        "id": "9q682HttOn5j",
        "outputId": "6e793525-fbd2-4666-8ed0-b2a7aa2dd63f"
      },
      "id": "9q682HttOn5j",
      "execution_count": null,
      "outputs": [
        {
          "output_type": "execute_result",
          "data": {
            "text/plain": [
              "array([0, 0, 0, 0, 0, 1, 1, 0, 0, 0, 0, 0, 0, 0, 0, 0, 1, 0, 0, 0, 0, 0,\n",
              "       0, 1, 0])"
            ]
          },
          "metadata": {},
          "execution_count": 151
        }
      ]
    },
    {
      "cell_type": "markdown",
      "source": [
        "# IV Neural Network"
      ],
      "metadata": {
        "id": "SM8QBHHkYKkY"
      },
      "id": "SM8QBHHkYKkY"
    },
    {
      "cell_type": "markdown",
      "source": [
        "## 11 Check device"
      ],
      "metadata": {
        "id": "hiErtrMzqnhB"
      },
      "id": "hiErtrMzqnhB"
    },
    {
      "cell_type": "code",
      "source": [
        "device = 'cuda' if torch.cuda.is_available() else 'cpu'\n",
        "device"
      ],
      "metadata": {
        "colab": {
          "base_uri": "https://localhost:8080/",
          "height": 35
        },
        "id": "mqUkB46uNbKf",
        "outputId": "68ca993f-b89d-4662-f43e-0639cbb3adf4"
      },
      "id": "mqUkB46uNbKf",
      "execution_count": null,
      "outputs": [
        {
          "output_type": "execute_result",
          "data": {
            "text/plain": [
              "'cpu'"
            ],
            "application/vnd.google.colaboratory.intrinsic+json": {
              "type": "string"
            }
          },
          "metadata": {},
          "execution_count": 8
        }
      ]
    },
    {
      "cell_type": "markdown",
      "source": [
        "***I decided to use the PyTorch for model and Tfidf for preprocessing data***"
      ],
      "metadata": {
        "id": "7eTVr651qt8M"
      },
      "id": "7eTVr651qt8M"
    },
    {
      "cell_type": "markdown",
      "source": [
        "## 12 Split data"
      ],
      "metadata": {
        "id": "1zUIfWdGss5c"
      },
      "id": "1zUIfWdGss5c"
    },
    {
      "cell_type": "code",
      "source": [
        "df_train, df_test = train_test_split(df, test_size=0.15, random_state=13)"
      ],
      "metadata": {
        "id": "5_6yxZpxs6x4"
      },
      "id": "5_6yxZpxs6x4",
      "execution_count": null,
      "outputs": []
    },
    {
      "cell_type": "code",
      "source": [
        "df_train, df_val = train_test_split(df_train, test_size=0.25, random_state=13)"
      ],
      "metadata": {
        "id": "xSL1VeWAuFbU"
      },
      "id": "xSL1VeWAuFbU",
      "execution_count": null,
      "outputs": []
    },
    {
      "cell_type": "code",
      "source": [
        "df_train.head()"
      ],
      "metadata": {
        "colab": {
          "base_uri": "https://localhost:8080/",
          "height": 206
        },
        "id": "9At_SeaEydla",
        "outputId": "79b13c61-82b4-489f-db75-8af24a168981"
      },
      "id": "9At_SeaEydla",
      "execution_count": null,
      "outputs": [
        {
          "output_type": "execute_result",
          "data": {
            "text/plain": [
              "      label                                              tweet\n",
              "6624      1   Bravo!: Though some of the works here are bet...\n",
              "6540      0   Not a great movie!: I thought it was pretty b...\n",
              "733       0   A thorn in the side of literature.: Hawthorne...\n",
              "2632      1   Mum's the word, says Victorian novelist.: A q...\n",
              "1067      1   The true meaning of Christmas, for kids: A Ch..."
            ],
            "text/html": [
              "\n",
              "  <div id=\"df-f29aa066-4560-4c0d-88ba-f8f09fd202a9\" class=\"colab-df-container\">\n",
              "    <div>\n",
              "<style scoped>\n",
              "    .dataframe tbody tr th:only-of-type {\n",
              "        vertical-align: middle;\n",
              "    }\n",
              "\n",
              "    .dataframe tbody tr th {\n",
              "        vertical-align: top;\n",
              "    }\n",
              "\n",
              "    .dataframe thead th {\n",
              "        text-align: right;\n",
              "    }\n",
              "</style>\n",
              "<table border=\"1\" class=\"dataframe\">\n",
              "  <thead>\n",
              "    <tr style=\"text-align: right;\">\n",
              "      <th></th>\n",
              "      <th>label</th>\n",
              "      <th>tweet</th>\n",
              "    </tr>\n",
              "  </thead>\n",
              "  <tbody>\n",
              "    <tr>\n",
              "      <th>6624</th>\n",
              "      <td>1</td>\n",
              "      <td>Bravo!: Though some of the works here are bet...</td>\n",
              "    </tr>\n",
              "    <tr>\n",
              "      <th>6540</th>\n",
              "      <td>0</td>\n",
              "      <td>Not a great movie!: I thought it was pretty b...</td>\n",
              "    </tr>\n",
              "    <tr>\n",
              "      <th>733</th>\n",
              "      <td>0</td>\n",
              "      <td>A thorn in the side of literature.: Hawthorne...</td>\n",
              "    </tr>\n",
              "    <tr>\n",
              "      <th>2632</th>\n",
              "      <td>1</td>\n",
              "      <td>Mum's the word, says Victorian novelist.: A q...</td>\n",
              "    </tr>\n",
              "    <tr>\n",
              "      <th>1067</th>\n",
              "      <td>1</td>\n",
              "      <td>The true meaning of Christmas, for kids: A Ch...</td>\n",
              "    </tr>\n",
              "  </tbody>\n",
              "</table>\n",
              "</div>\n",
              "    <div class=\"colab-df-buttons\">\n",
              "\n",
              "  <div class=\"colab-df-container\">\n",
              "    <button class=\"colab-df-convert\" onclick=\"convertToInteractive('df-f29aa066-4560-4c0d-88ba-f8f09fd202a9')\"\n",
              "            title=\"Convert this dataframe to an interactive table.\"\n",
              "            style=\"display:none;\">\n",
              "\n",
              "  <svg xmlns=\"http://www.w3.org/2000/svg\" height=\"24px\" viewBox=\"0 -960 960 960\">\n",
              "    <path d=\"M120-120v-720h720v720H120Zm60-500h600v-160H180v160Zm220 220h160v-160H400v160Zm0 220h160v-160H400v160ZM180-400h160v-160H180v160Zm440 0h160v-160H620v160ZM180-180h160v-160H180v160Zm440 0h160v-160H620v160Z\"/>\n",
              "  </svg>\n",
              "    </button>\n",
              "\n",
              "  <style>\n",
              "    .colab-df-container {\n",
              "      display:flex;\n",
              "      gap: 12px;\n",
              "    }\n",
              "\n",
              "    .colab-df-convert {\n",
              "      background-color: #E8F0FE;\n",
              "      border: none;\n",
              "      border-radius: 50%;\n",
              "      cursor: pointer;\n",
              "      display: none;\n",
              "      fill: #1967D2;\n",
              "      height: 32px;\n",
              "      padding: 0 0 0 0;\n",
              "      width: 32px;\n",
              "    }\n",
              "\n",
              "    .colab-df-convert:hover {\n",
              "      background-color: #E2EBFA;\n",
              "      box-shadow: 0px 1px 2px rgba(60, 64, 67, 0.3), 0px 1px 3px 1px rgba(60, 64, 67, 0.15);\n",
              "      fill: #174EA6;\n",
              "    }\n",
              "\n",
              "    .colab-df-buttons div {\n",
              "      margin-bottom: 4px;\n",
              "    }\n",
              "\n",
              "    [theme=dark] .colab-df-convert {\n",
              "      background-color: #3B4455;\n",
              "      fill: #D2E3FC;\n",
              "    }\n",
              "\n",
              "    [theme=dark] .colab-df-convert:hover {\n",
              "      background-color: #434B5C;\n",
              "      box-shadow: 0px 1px 3px 1px rgba(0, 0, 0, 0.15);\n",
              "      filter: drop-shadow(0px 1px 2px rgba(0, 0, 0, 0.3));\n",
              "      fill: #FFFFFF;\n",
              "    }\n",
              "  </style>\n",
              "\n",
              "    <script>\n",
              "      const buttonEl =\n",
              "        document.querySelector('#df-f29aa066-4560-4c0d-88ba-f8f09fd202a9 button.colab-df-convert');\n",
              "      buttonEl.style.display =\n",
              "        google.colab.kernel.accessAllowed ? 'block' : 'none';\n",
              "\n",
              "      async function convertToInteractive(key) {\n",
              "        const element = document.querySelector('#df-f29aa066-4560-4c0d-88ba-f8f09fd202a9');\n",
              "        const dataTable =\n",
              "          await google.colab.kernel.invokeFunction('convertToInteractive',\n",
              "                                                    [key], {});\n",
              "        if (!dataTable) return;\n",
              "\n",
              "        const docLinkHtml = 'Like what you see? Visit the ' +\n",
              "          '<a target=\"_blank\" href=https://colab.research.google.com/notebooks/data_table.ipynb>data table notebook</a>'\n",
              "          + ' to learn more about interactive tables.';\n",
              "        element.innerHTML = '';\n",
              "        dataTable['output_type'] = 'display_data';\n",
              "        await google.colab.output.renderOutput(dataTable, element);\n",
              "        const docLink = document.createElement('div');\n",
              "        docLink.innerHTML = docLinkHtml;\n",
              "        element.appendChild(docLink);\n",
              "      }\n",
              "    </script>\n",
              "  </div>\n",
              "\n",
              "\n",
              "<div id=\"df-d37193c9-2c00-4387-a862-a381f23eeb96\">\n",
              "  <button class=\"colab-df-quickchart\" onclick=\"quickchart('df-d37193c9-2c00-4387-a862-a381f23eeb96')\"\n",
              "            title=\"Suggest charts\"\n",
              "            style=\"display:none;\">\n",
              "\n",
              "<svg xmlns=\"http://www.w3.org/2000/svg\" height=\"24px\"viewBox=\"0 0 24 24\"\n",
              "     width=\"24px\">\n",
              "    <g>\n",
              "        <path d=\"M19 3H5c-1.1 0-2 .9-2 2v14c0 1.1.9 2 2 2h14c1.1 0 2-.9 2-2V5c0-1.1-.9-2-2-2zM9 17H7v-7h2v7zm4 0h-2V7h2v10zm4 0h-2v-4h2v4z\"/>\n",
              "    </g>\n",
              "</svg>\n",
              "  </button>\n",
              "\n",
              "<style>\n",
              "  .colab-df-quickchart {\n",
              "      --bg-color: #E8F0FE;\n",
              "      --fill-color: #1967D2;\n",
              "      --hover-bg-color: #E2EBFA;\n",
              "      --hover-fill-color: #174EA6;\n",
              "      --disabled-fill-color: #AAA;\n",
              "      --disabled-bg-color: #DDD;\n",
              "  }\n",
              "\n",
              "  [theme=dark] .colab-df-quickchart {\n",
              "      --bg-color: #3B4455;\n",
              "      --fill-color: #D2E3FC;\n",
              "      --hover-bg-color: #434B5C;\n",
              "      --hover-fill-color: #FFFFFF;\n",
              "      --disabled-bg-color: #3B4455;\n",
              "      --disabled-fill-color: #666;\n",
              "  }\n",
              "\n",
              "  .colab-df-quickchart {\n",
              "    background-color: var(--bg-color);\n",
              "    border: none;\n",
              "    border-radius: 50%;\n",
              "    cursor: pointer;\n",
              "    display: none;\n",
              "    fill: var(--fill-color);\n",
              "    height: 32px;\n",
              "    padding: 0;\n",
              "    width: 32px;\n",
              "  }\n",
              "\n",
              "  .colab-df-quickchart:hover {\n",
              "    background-color: var(--hover-bg-color);\n",
              "    box-shadow: 0 1px 2px rgba(60, 64, 67, 0.3), 0 1px 3px 1px rgba(60, 64, 67, 0.15);\n",
              "    fill: var(--button-hover-fill-color);\n",
              "  }\n",
              "\n",
              "  .colab-df-quickchart-complete:disabled,\n",
              "  .colab-df-quickchart-complete:disabled:hover {\n",
              "    background-color: var(--disabled-bg-color);\n",
              "    fill: var(--disabled-fill-color);\n",
              "    box-shadow: none;\n",
              "  }\n",
              "\n",
              "  .colab-df-spinner {\n",
              "    border: 2px solid var(--fill-color);\n",
              "    border-color: transparent;\n",
              "    border-bottom-color: var(--fill-color);\n",
              "    animation:\n",
              "      spin 1s steps(1) infinite;\n",
              "  }\n",
              "\n",
              "  @keyframes spin {\n",
              "    0% {\n",
              "      border-color: transparent;\n",
              "      border-bottom-color: var(--fill-color);\n",
              "      border-left-color: var(--fill-color);\n",
              "    }\n",
              "    20% {\n",
              "      border-color: transparent;\n",
              "      border-left-color: var(--fill-color);\n",
              "      border-top-color: var(--fill-color);\n",
              "    }\n",
              "    30% {\n",
              "      border-color: transparent;\n",
              "      border-left-color: var(--fill-color);\n",
              "      border-top-color: var(--fill-color);\n",
              "      border-right-color: var(--fill-color);\n",
              "    }\n",
              "    40% {\n",
              "      border-color: transparent;\n",
              "      border-right-color: var(--fill-color);\n",
              "      border-top-color: var(--fill-color);\n",
              "    }\n",
              "    60% {\n",
              "      border-color: transparent;\n",
              "      border-right-color: var(--fill-color);\n",
              "    }\n",
              "    80% {\n",
              "      border-color: transparent;\n",
              "      border-right-color: var(--fill-color);\n",
              "      border-bottom-color: var(--fill-color);\n",
              "    }\n",
              "    90% {\n",
              "      border-color: transparent;\n",
              "      border-bottom-color: var(--fill-color);\n",
              "    }\n",
              "  }\n",
              "</style>\n",
              "\n",
              "  <script>\n",
              "    async function quickchart(key) {\n",
              "      const quickchartButtonEl =\n",
              "        document.querySelector('#' + key + ' button');\n",
              "      quickchartButtonEl.disabled = true;  // To prevent multiple clicks.\n",
              "      quickchartButtonEl.classList.add('colab-df-spinner');\n",
              "      try {\n",
              "        const charts = await google.colab.kernel.invokeFunction(\n",
              "            'suggestCharts', [key], {});\n",
              "      } catch (error) {\n",
              "        console.error('Error during call to suggestCharts:', error);\n",
              "      }\n",
              "      quickchartButtonEl.classList.remove('colab-df-spinner');\n",
              "      quickchartButtonEl.classList.add('colab-df-quickchart-complete');\n",
              "    }\n",
              "    (() => {\n",
              "      let quickchartButtonEl =\n",
              "        document.querySelector('#df-d37193c9-2c00-4387-a862-a381f23eeb96 button');\n",
              "      quickchartButtonEl.style.display =\n",
              "        google.colab.kernel.accessAllowed ? 'block' : 'none';\n",
              "    })();\n",
              "  </script>\n",
              "</div>\n",
              "    </div>\n",
              "  </div>\n"
            ],
            "application/vnd.google.colaboratory.intrinsic+json": {
              "type": "dataframe",
              "variable_name": "df_train",
              "summary": "{\n  \"name\": \"df_train\",\n  \"rows\": 6375,\n  \"fields\": [\n    {\n      \"column\": \"label\",\n      \"properties\": {\n        \"dtype\": \"number\",\n        \"std\": 0,\n        \"min\": 0,\n        \"max\": 1,\n        \"num_unique_values\": 2,\n        \"samples\": [\n          0,\n          1\n        ],\n        \"semantic_type\": \"\",\n        \"description\": \"\"\n      }\n    },\n    {\n      \"column\": \"tweet\",\n      \"properties\": {\n        \"dtype\": \"string\",\n        \"num_unique_values\": 6375,\n        \"samples\": [\n          \" Save Your Money: I have previously purchased a Ross Berstein book (\\\"Gopher Hockey by the Hockey Gopher\\\") and found that to be an entertaining read. Not so with this offeringAll Berstein seems to have done is find some of Herb's friends, turned on his tape recorder and then transcibe their comments, verbatim. The print is too small, the words and thoughts are redundant and the small paperback has the look and feel of a self-published work, which it is.The range of interviewees is tiny compared with the breadth of Brooks' life and all the interviews sound the same. There were a few pictures of young Herbie the player. Those are fairly interesting, but I found myself a little disappointed with this offering.\",\n          \" Sorry but you're out of luck: Purchased the Omni Mount UCL-L for my 40\\\" LCD. I'll have to admit that the unit appears extremely sturdy and well built but it does come with one minor flaw- if a part is missing there is no way to get a replacement part. My specific issue was the bracket at the end of the arm that connects to the plate securing the display. The part was not in the box so I called Omni Mount to get a replacement part. They assured me the piece was part of the assembly when it left the factory and there was no way to get me a replacement part. I now have a $250 mount that is useless. Gotta think that if they are correct, I wound up with a used or salvaged unit.\"\n        ],\n        \"semantic_type\": \"\",\n        \"description\": \"\"\n      }\n    }\n  ]\n}"
            }
          },
          "metadata": {},
          "execution_count": 331
        }
      ]
    },
    {
      "cell_type": "code",
      "source": [
        "df_test.head()"
      ],
      "metadata": {
        "colab": {
          "base_uri": "https://localhost:8080/",
          "height": 206
        },
        "id": "7objfUkVuILv",
        "outputId": "f7df8556-637d-42f5-f06d-c335eb6a45d0"
      },
      "id": "7objfUkVuILv",
      "execution_count": null,
      "outputs": [
        {
          "output_type": "execute_result",
          "data": {
            "text/plain": [
              "      label                                              tweet\n",
              "5952      0   bad product: i received a damaged product I c...\n",
              "1783      1   Gun Digest: The book was bought as a gift for...\n",
              "4811      1   Telemann: Sinfonia spirituosa; String Concert...\n",
              "145       0   Good for a laugh: I heard about this book, so...\n",
              "7146      0   Wax coating and taste: I try new energy/prote..."
            ],
            "text/html": [
              "\n",
              "  <div id=\"df-24128fcc-81ef-4b56-97c8-bd4dc71d1b35\" class=\"colab-df-container\">\n",
              "    <div>\n",
              "<style scoped>\n",
              "    .dataframe tbody tr th:only-of-type {\n",
              "        vertical-align: middle;\n",
              "    }\n",
              "\n",
              "    .dataframe tbody tr th {\n",
              "        vertical-align: top;\n",
              "    }\n",
              "\n",
              "    .dataframe thead th {\n",
              "        text-align: right;\n",
              "    }\n",
              "</style>\n",
              "<table border=\"1\" class=\"dataframe\">\n",
              "  <thead>\n",
              "    <tr style=\"text-align: right;\">\n",
              "      <th></th>\n",
              "      <th>label</th>\n",
              "      <th>tweet</th>\n",
              "    </tr>\n",
              "  </thead>\n",
              "  <tbody>\n",
              "    <tr>\n",
              "      <th>5952</th>\n",
              "      <td>0</td>\n",
              "      <td>bad product: i received a damaged product I c...</td>\n",
              "    </tr>\n",
              "    <tr>\n",
              "      <th>1783</th>\n",
              "      <td>1</td>\n",
              "      <td>Gun Digest: The book was bought as a gift for...</td>\n",
              "    </tr>\n",
              "    <tr>\n",
              "      <th>4811</th>\n",
              "      <td>1</td>\n",
              "      <td>Telemann: Sinfonia spirituosa; String Concert...</td>\n",
              "    </tr>\n",
              "    <tr>\n",
              "      <th>145</th>\n",
              "      <td>0</td>\n",
              "      <td>Good for a laugh: I heard about this book, so...</td>\n",
              "    </tr>\n",
              "    <tr>\n",
              "      <th>7146</th>\n",
              "      <td>0</td>\n",
              "      <td>Wax coating and taste: I try new energy/prote...</td>\n",
              "    </tr>\n",
              "  </tbody>\n",
              "</table>\n",
              "</div>\n",
              "    <div class=\"colab-df-buttons\">\n",
              "\n",
              "  <div class=\"colab-df-container\">\n",
              "    <button class=\"colab-df-convert\" onclick=\"convertToInteractive('df-24128fcc-81ef-4b56-97c8-bd4dc71d1b35')\"\n",
              "            title=\"Convert this dataframe to an interactive table.\"\n",
              "            style=\"display:none;\">\n",
              "\n",
              "  <svg xmlns=\"http://www.w3.org/2000/svg\" height=\"24px\" viewBox=\"0 -960 960 960\">\n",
              "    <path d=\"M120-120v-720h720v720H120Zm60-500h600v-160H180v160Zm220 220h160v-160H400v160Zm0 220h160v-160H400v160ZM180-400h160v-160H180v160Zm440 0h160v-160H620v160ZM180-180h160v-160H180v160Zm440 0h160v-160H620v160Z\"/>\n",
              "  </svg>\n",
              "    </button>\n",
              "\n",
              "  <style>\n",
              "    .colab-df-container {\n",
              "      display:flex;\n",
              "      gap: 12px;\n",
              "    }\n",
              "\n",
              "    .colab-df-convert {\n",
              "      background-color: #E8F0FE;\n",
              "      border: none;\n",
              "      border-radius: 50%;\n",
              "      cursor: pointer;\n",
              "      display: none;\n",
              "      fill: #1967D2;\n",
              "      height: 32px;\n",
              "      padding: 0 0 0 0;\n",
              "      width: 32px;\n",
              "    }\n",
              "\n",
              "    .colab-df-convert:hover {\n",
              "      background-color: #E2EBFA;\n",
              "      box-shadow: 0px 1px 2px rgba(60, 64, 67, 0.3), 0px 1px 3px 1px rgba(60, 64, 67, 0.15);\n",
              "      fill: #174EA6;\n",
              "    }\n",
              "\n",
              "    .colab-df-buttons div {\n",
              "      margin-bottom: 4px;\n",
              "    }\n",
              "\n",
              "    [theme=dark] .colab-df-convert {\n",
              "      background-color: #3B4455;\n",
              "      fill: #D2E3FC;\n",
              "    }\n",
              "\n",
              "    [theme=dark] .colab-df-convert:hover {\n",
              "      background-color: #434B5C;\n",
              "      box-shadow: 0px 1px 3px 1px rgba(0, 0, 0, 0.15);\n",
              "      filter: drop-shadow(0px 1px 2px rgba(0, 0, 0, 0.3));\n",
              "      fill: #FFFFFF;\n",
              "    }\n",
              "  </style>\n",
              "\n",
              "    <script>\n",
              "      const buttonEl =\n",
              "        document.querySelector('#df-24128fcc-81ef-4b56-97c8-bd4dc71d1b35 button.colab-df-convert');\n",
              "      buttonEl.style.display =\n",
              "        google.colab.kernel.accessAllowed ? 'block' : 'none';\n",
              "\n",
              "      async function convertToInteractive(key) {\n",
              "        const element = document.querySelector('#df-24128fcc-81ef-4b56-97c8-bd4dc71d1b35');\n",
              "        const dataTable =\n",
              "          await google.colab.kernel.invokeFunction('convertToInteractive',\n",
              "                                                    [key], {});\n",
              "        if (!dataTable) return;\n",
              "\n",
              "        const docLinkHtml = 'Like what you see? Visit the ' +\n",
              "          '<a target=\"_blank\" href=https://colab.research.google.com/notebooks/data_table.ipynb>data table notebook</a>'\n",
              "          + ' to learn more about interactive tables.';\n",
              "        element.innerHTML = '';\n",
              "        dataTable['output_type'] = 'display_data';\n",
              "        await google.colab.output.renderOutput(dataTable, element);\n",
              "        const docLink = document.createElement('div');\n",
              "        docLink.innerHTML = docLinkHtml;\n",
              "        element.appendChild(docLink);\n",
              "      }\n",
              "    </script>\n",
              "  </div>\n",
              "\n",
              "\n",
              "<div id=\"df-4f4d0552-b033-445a-babe-9e65b72f31fa\">\n",
              "  <button class=\"colab-df-quickchart\" onclick=\"quickchart('df-4f4d0552-b033-445a-babe-9e65b72f31fa')\"\n",
              "            title=\"Suggest charts\"\n",
              "            style=\"display:none;\">\n",
              "\n",
              "<svg xmlns=\"http://www.w3.org/2000/svg\" height=\"24px\"viewBox=\"0 0 24 24\"\n",
              "     width=\"24px\">\n",
              "    <g>\n",
              "        <path d=\"M19 3H5c-1.1 0-2 .9-2 2v14c0 1.1.9 2 2 2h14c1.1 0 2-.9 2-2V5c0-1.1-.9-2-2-2zM9 17H7v-7h2v7zm4 0h-2V7h2v10zm4 0h-2v-4h2v4z\"/>\n",
              "    </g>\n",
              "</svg>\n",
              "  </button>\n",
              "\n",
              "<style>\n",
              "  .colab-df-quickchart {\n",
              "      --bg-color: #E8F0FE;\n",
              "      --fill-color: #1967D2;\n",
              "      --hover-bg-color: #E2EBFA;\n",
              "      --hover-fill-color: #174EA6;\n",
              "      --disabled-fill-color: #AAA;\n",
              "      --disabled-bg-color: #DDD;\n",
              "  }\n",
              "\n",
              "  [theme=dark] .colab-df-quickchart {\n",
              "      --bg-color: #3B4455;\n",
              "      --fill-color: #D2E3FC;\n",
              "      --hover-bg-color: #434B5C;\n",
              "      --hover-fill-color: #FFFFFF;\n",
              "      --disabled-bg-color: #3B4455;\n",
              "      --disabled-fill-color: #666;\n",
              "  }\n",
              "\n",
              "  .colab-df-quickchart {\n",
              "    background-color: var(--bg-color);\n",
              "    border: none;\n",
              "    border-radius: 50%;\n",
              "    cursor: pointer;\n",
              "    display: none;\n",
              "    fill: var(--fill-color);\n",
              "    height: 32px;\n",
              "    padding: 0;\n",
              "    width: 32px;\n",
              "  }\n",
              "\n",
              "  .colab-df-quickchart:hover {\n",
              "    background-color: var(--hover-bg-color);\n",
              "    box-shadow: 0 1px 2px rgba(60, 64, 67, 0.3), 0 1px 3px 1px rgba(60, 64, 67, 0.15);\n",
              "    fill: var(--button-hover-fill-color);\n",
              "  }\n",
              "\n",
              "  .colab-df-quickchart-complete:disabled,\n",
              "  .colab-df-quickchart-complete:disabled:hover {\n",
              "    background-color: var(--disabled-bg-color);\n",
              "    fill: var(--disabled-fill-color);\n",
              "    box-shadow: none;\n",
              "  }\n",
              "\n",
              "  .colab-df-spinner {\n",
              "    border: 2px solid var(--fill-color);\n",
              "    border-color: transparent;\n",
              "    border-bottom-color: var(--fill-color);\n",
              "    animation:\n",
              "      spin 1s steps(1) infinite;\n",
              "  }\n",
              "\n",
              "  @keyframes spin {\n",
              "    0% {\n",
              "      border-color: transparent;\n",
              "      border-bottom-color: var(--fill-color);\n",
              "      border-left-color: var(--fill-color);\n",
              "    }\n",
              "    20% {\n",
              "      border-color: transparent;\n",
              "      border-left-color: var(--fill-color);\n",
              "      border-top-color: var(--fill-color);\n",
              "    }\n",
              "    30% {\n",
              "      border-color: transparent;\n",
              "      border-left-color: var(--fill-color);\n",
              "      border-top-color: var(--fill-color);\n",
              "      border-right-color: var(--fill-color);\n",
              "    }\n",
              "    40% {\n",
              "      border-color: transparent;\n",
              "      border-right-color: var(--fill-color);\n",
              "      border-top-color: var(--fill-color);\n",
              "    }\n",
              "    60% {\n",
              "      border-color: transparent;\n",
              "      border-right-color: var(--fill-color);\n",
              "    }\n",
              "    80% {\n",
              "      border-color: transparent;\n",
              "      border-right-color: var(--fill-color);\n",
              "      border-bottom-color: var(--fill-color);\n",
              "    }\n",
              "    90% {\n",
              "      border-color: transparent;\n",
              "      border-bottom-color: var(--fill-color);\n",
              "    }\n",
              "  }\n",
              "</style>\n",
              "\n",
              "  <script>\n",
              "    async function quickchart(key) {\n",
              "      const quickchartButtonEl =\n",
              "        document.querySelector('#' + key + ' button');\n",
              "      quickchartButtonEl.disabled = true;  // To prevent multiple clicks.\n",
              "      quickchartButtonEl.classList.add('colab-df-spinner');\n",
              "      try {\n",
              "        const charts = await google.colab.kernel.invokeFunction(\n",
              "            'suggestCharts', [key], {});\n",
              "      } catch (error) {\n",
              "        console.error('Error during call to suggestCharts:', error);\n",
              "      }\n",
              "      quickchartButtonEl.classList.remove('colab-df-spinner');\n",
              "      quickchartButtonEl.classList.add('colab-df-quickchart-complete');\n",
              "    }\n",
              "    (() => {\n",
              "      let quickchartButtonEl =\n",
              "        document.querySelector('#df-4f4d0552-b033-445a-babe-9e65b72f31fa button');\n",
              "      quickchartButtonEl.style.display =\n",
              "        google.colab.kernel.accessAllowed ? 'block' : 'none';\n",
              "    })();\n",
              "  </script>\n",
              "</div>\n",
              "    </div>\n",
              "  </div>\n"
            ],
            "application/vnd.google.colaboratory.intrinsic+json": {
              "type": "dataframe",
              "variable_name": "df_test",
              "summary": "{\n  \"name\": \"df_test\",\n  \"rows\": 1500,\n  \"fields\": [\n    {\n      \"column\": \"label\",\n      \"properties\": {\n        \"dtype\": \"number\",\n        \"std\": 0,\n        \"min\": 0,\n        \"max\": 1,\n        \"num_unique_values\": 2,\n        \"samples\": [\n          1,\n          0\n        ],\n        \"semantic_type\": \"\",\n        \"description\": \"\"\n      }\n    },\n    {\n      \"column\": \"tweet\",\n      \"properties\": {\n        \"dtype\": \"string\",\n        \"num_unique_values\": 1500,\n        \"samples\": [\n          \" There's nothing in the Airs: The samples sounded interesting, but a few spins revealed that there's really nothing of substance here. While I'll concede Connors sounds like a proficient guitarist, he's just not really playing anything here. The Airs pass by like a breeze, leaving nothing memorable behind. It is not substantial enough to be either good or bad.\",\n          \" The best book you should read, but don't in High School: Across the country there is a travesty going on. High School teachers are requiring students to read Animal Farm by George Orwell. By the same author there is a much finer example of satire and the multiple levels Orwell attached to each of his books. Nineteen Eighty-Four is simply one of the best books written this century. It approaches a subject matter, Communism, attacks it and then inadvertantly exposes a greater meaning and truth, the essence of freedom. Orwell meant 1984 to be an attack on Russia and what would happen if Stalin and Lenin won. It trascended that and became a handbook for freedom. If anyone doesn't come out a Libertarian after reading this book, they didn't read it close enough. One of the many books that will be on classic reading lists for centuries to come.\"\n        ],\n        \"semantic_type\": \"\",\n        \"description\": \"\"\n      }\n    }\n  ]\n}"
            }
          },
          "metadata": {},
          "execution_count": 332
        }
      ]
    },
    {
      "cell_type": "code",
      "source": [
        "df_val.head()"
      ],
      "metadata": {
        "colab": {
          "base_uri": "https://localhost:8080/",
          "height": 206
        },
        "id": "B9eD_0clyh_e",
        "outputId": "d723892a-c7d6-471d-f04f-6c69a88f635b"
      },
      "id": "B9eD_0clyh_e",
      "execution_count": null,
      "outputs": [
        {
          "output_type": "execute_result",
          "data": {
            "text/plain": [
              "      label                                              tweet\n",
              "2406      1   This book is has inspired me: This book would...\n",
              "6006      1   Excellent!!!!!!!!!!!!!!!!!!!!!!!!: Don't have...\n",
              "4728      0   DocuMate 510 is Horrible: This scanner is abs...\n",
              "2358      1   Beautiful, Poetic, Distinctive Writing: I lov...\n",
              "4992      1   quarter through, and totally imressed: I have..."
            ],
            "text/html": [
              "\n",
              "  <div id=\"df-89a3f7e2-42eb-4bf4-8b2f-52c5764a22e9\" class=\"colab-df-container\">\n",
              "    <div>\n",
              "<style scoped>\n",
              "    .dataframe tbody tr th:only-of-type {\n",
              "        vertical-align: middle;\n",
              "    }\n",
              "\n",
              "    .dataframe tbody tr th {\n",
              "        vertical-align: top;\n",
              "    }\n",
              "\n",
              "    .dataframe thead th {\n",
              "        text-align: right;\n",
              "    }\n",
              "</style>\n",
              "<table border=\"1\" class=\"dataframe\">\n",
              "  <thead>\n",
              "    <tr style=\"text-align: right;\">\n",
              "      <th></th>\n",
              "      <th>label</th>\n",
              "      <th>tweet</th>\n",
              "    </tr>\n",
              "  </thead>\n",
              "  <tbody>\n",
              "    <tr>\n",
              "      <th>2406</th>\n",
              "      <td>1</td>\n",
              "      <td>This book is has inspired me: This book would...</td>\n",
              "    </tr>\n",
              "    <tr>\n",
              "      <th>6006</th>\n",
              "      <td>1</td>\n",
              "      <td>Excellent!!!!!!!!!!!!!!!!!!!!!!!!: Don't have...</td>\n",
              "    </tr>\n",
              "    <tr>\n",
              "      <th>4728</th>\n",
              "      <td>0</td>\n",
              "      <td>DocuMate 510 is Horrible: This scanner is abs...</td>\n",
              "    </tr>\n",
              "    <tr>\n",
              "      <th>2358</th>\n",
              "      <td>1</td>\n",
              "      <td>Beautiful, Poetic, Distinctive Writing: I lov...</td>\n",
              "    </tr>\n",
              "    <tr>\n",
              "      <th>4992</th>\n",
              "      <td>1</td>\n",
              "      <td>quarter through, and totally imressed: I have...</td>\n",
              "    </tr>\n",
              "  </tbody>\n",
              "</table>\n",
              "</div>\n",
              "    <div class=\"colab-df-buttons\">\n",
              "\n",
              "  <div class=\"colab-df-container\">\n",
              "    <button class=\"colab-df-convert\" onclick=\"convertToInteractive('df-89a3f7e2-42eb-4bf4-8b2f-52c5764a22e9')\"\n",
              "            title=\"Convert this dataframe to an interactive table.\"\n",
              "            style=\"display:none;\">\n",
              "\n",
              "  <svg xmlns=\"http://www.w3.org/2000/svg\" height=\"24px\" viewBox=\"0 -960 960 960\">\n",
              "    <path d=\"M120-120v-720h720v720H120Zm60-500h600v-160H180v160Zm220 220h160v-160H400v160Zm0 220h160v-160H400v160ZM180-400h160v-160H180v160Zm440 0h160v-160H620v160ZM180-180h160v-160H180v160Zm440 0h160v-160H620v160Z\"/>\n",
              "  </svg>\n",
              "    </button>\n",
              "\n",
              "  <style>\n",
              "    .colab-df-container {\n",
              "      display:flex;\n",
              "      gap: 12px;\n",
              "    }\n",
              "\n",
              "    .colab-df-convert {\n",
              "      background-color: #E8F0FE;\n",
              "      border: none;\n",
              "      border-radius: 50%;\n",
              "      cursor: pointer;\n",
              "      display: none;\n",
              "      fill: #1967D2;\n",
              "      height: 32px;\n",
              "      padding: 0 0 0 0;\n",
              "      width: 32px;\n",
              "    }\n",
              "\n",
              "    .colab-df-convert:hover {\n",
              "      background-color: #E2EBFA;\n",
              "      box-shadow: 0px 1px 2px rgba(60, 64, 67, 0.3), 0px 1px 3px 1px rgba(60, 64, 67, 0.15);\n",
              "      fill: #174EA6;\n",
              "    }\n",
              "\n",
              "    .colab-df-buttons div {\n",
              "      margin-bottom: 4px;\n",
              "    }\n",
              "\n",
              "    [theme=dark] .colab-df-convert {\n",
              "      background-color: #3B4455;\n",
              "      fill: #D2E3FC;\n",
              "    }\n",
              "\n",
              "    [theme=dark] .colab-df-convert:hover {\n",
              "      background-color: #434B5C;\n",
              "      box-shadow: 0px 1px 3px 1px rgba(0, 0, 0, 0.15);\n",
              "      filter: drop-shadow(0px 1px 2px rgba(0, 0, 0, 0.3));\n",
              "      fill: #FFFFFF;\n",
              "    }\n",
              "  </style>\n",
              "\n",
              "    <script>\n",
              "      const buttonEl =\n",
              "        document.querySelector('#df-89a3f7e2-42eb-4bf4-8b2f-52c5764a22e9 button.colab-df-convert');\n",
              "      buttonEl.style.display =\n",
              "        google.colab.kernel.accessAllowed ? 'block' : 'none';\n",
              "\n",
              "      async function convertToInteractive(key) {\n",
              "        const element = document.querySelector('#df-89a3f7e2-42eb-4bf4-8b2f-52c5764a22e9');\n",
              "        const dataTable =\n",
              "          await google.colab.kernel.invokeFunction('convertToInteractive',\n",
              "                                                    [key], {});\n",
              "        if (!dataTable) return;\n",
              "\n",
              "        const docLinkHtml = 'Like what you see? Visit the ' +\n",
              "          '<a target=\"_blank\" href=https://colab.research.google.com/notebooks/data_table.ipynb>data table notebook</a>'\n",
              "          + ' to learn more about interactive tables.';\n",
              "        element.innerHTML = '';\n",
              "        dataTable['output_type'] = 'display_data';\n",
              "        await google.colab.output.renderOutput(dataTable, element);\n",
              "        const docLink = document.createElement('div');\n",
              "        docLink.innerHTML = docLinkHtml;\n",
              "        element.appendChild(docLink);\n",
              "      }\n",
              "    </script>\n",
              "  </div>\n",
              "\n",
              "\n",
              "<div id=\"df-21da6ea2-33a6-4077-b8f3-defc34b4fbe0\">\n",
              "  <button class=\"colab-df-quickchart\" onclick=\"quickchart('df-21da6ea2-33a6-4077-b8f3-defc34b4fbe0')\"\n",
              "            title=\"Suggest charts\"\n",
              "            style=\"display:none;\">\n",
              "\n",
              "<svg xmlns=\"http://www.w3.org/2000/svg\" height=\"24px\"viewBox=\"0 0 24 24\"\n",
              "     width=\"24px\">\n",
              "    <g>\n",
              "        <path d=\"M19 3H5c-1.1 0-2 .9-2 2v14c0 1.1.9 2 2 2h14c1.1 0 2-.9 2-2V5c0-1.1-.9-2-2-2zM9 17H7v-7h2v7zm4 0h-2V7h2v10zm4 0h-2v-4h2v4z\"/>\n",
              "    </g>\n",
              "</svg>\n",
              "  </button>\n",
              "\n",
              "<style>\n",
              "  .colab-df-quickchart {\n",
              "      --bg-color: #E8F0FE;\n",
              "      --fill-color: #1967D2;\n",
              "      --hover-bg-color: #E2EBFA;\n",
              "      --hover-fill-color: #174EA6;\n",
              "      --disabled-fill-color: #AAA;\n",
              "      --disabled-bg-color: #DDD;\n",
              "  }\n",
              "\n",
              "  [theme=dark] .colab-df-quickchart {\n",
              "      --bg-color: #3B4455;\n",
              "      --fill-color: #D2E3FC;\n",
              "      --hover-bg-color: #434B5C;\n",
              "      --hover-fill-color: #FFFFFF;\n",
              "      --disabled-bg-color: #3B4455;\n",
              "      --disabled-fill-color: #666;\n",
              "  }\n",
              "\n",
              "  .colab-df-quickchart {\n",
              "    background-color: var(--bg-color);\n",
              "    border: none;\n",
              "    border-radius: 50%;\n",
              "    cursor: pointer;\n",
              "    display: none;\n",
              "    fill: var(--fill-color);\n",
              "    height: 32px;\n",
              "    padding: 0;\n",
              "    width: 32px;\n",
              "  }\n",
              "\n",
              "  .colab-df-quickchart:hover {\n",
              "    background-color: var(--hover-bg-color);\n",
              "    box-shadow: 0 1px 2px rgba(60, 64, 67, 0.3), 0 1px 3px 1px rgba(60, 64, 67, 0.15);\n",
              "    fill: var(--button-hover-fill-color);\n",
              "  }\n",
              "\n",
              "  .colab-df-quickchart-complete:disabled,\n",
              "  .colab-df-quickchart-complete:disabled:hover {\n",
              "    background-color: var(--disabled-bg-color);\n",
              "    fill: var(--disabled-fill-color);\n",
              "    box-shadow: none;\n",
              "  }\n",
              "\n",
              "  .colab-df-spinner {\n",
              "    border: 2px solid var(--fill-color);\n",
              "    border-color: transparent;\n",
              "    border-bottom-color: var(--fill-color);\n",
              "    animation:\n",
              "      spin 1s steps(1) infinite;\n",
              "  }\n",
              "\n",
              "  @keyframes spin {\n",
              "    0% {\n",
              "      border-color: transparent;\n",
              "      border-bottom-color: var(--fill-color);\n",
              "      border-left-color: var(--fill-color);\n",
              "    }\n",
              "    20% {\n",
              "      border-color: transparent;\n",
              "      border-left-color: var(--fill-color);\n",
              "      border-top-color: var(--fill-color);\n",
              "    }\n",
              "    30% {\n",
              "      border-color: transparent;\n",
              "      border-left-color: var(--fill-color);\n",
              "      border-top-color: var(--fill-color);\n",
              "      border-right-color: var(--fill-color);\n",
              "    }\n",
              "    40% {\n",
              "      border-color: transparent;\n",
              "      border-right-color: var(--fill-color);\n",
              "      border-top-color: var(--fill-color);\n",
              "    }\n",
              "    60% {\n",
              "      border-color: transparent;\n",
              "      border-right-color: var(--fill-color);\n",
              "    }\n",
              "    80% {\n",
              "      border-color: transparent;\n",
              "      border-right-color: var(--fill-color);\n",
              "      border-bottom-color: var(--fill-color);\n",
              "    }\n",
              "    90% {\n",
              "      border-color: transparent;\n",
              "      border-bottom-color: var(--fill-color);\n",
              "    }\n",
              "  }\n",
              "</style>\n",
              "\n",
              "  <script>\n",
              "    async function quickchart(key) {\n",
              "      const quickchartButtonEl =\n",
              "        document.querySelector('#' + key + ' button');\n",
              "      quickchartButtonEl.disabled = true;  // To prevent multiple clicks.\n",
              "      quickchartButtonEl.classList.add('colab-df-spinner');\n",
              "      try {\n",
              "        const charts = await google.colab.kernel.invokeFunction(\n",
              "            'suggestCharts', [key], {});\n",
              "      } catch (error) {\n",
              "        console.error('Error during call to suggestCharts:', error);\n",
              "      }\n",
              "      quickchartButtonEl.classList.remove('colab-df-spinner');\n",
              "      quickchartButtonEl.classList.add('colab-df-quickchart-complete');\n",
              "    }\n",
              "    (() => {\n",
              "      let quickchartButtonEl =\n",
              "        document.querySelector('#df-21da6ea2-33a6-4077-b8f3-defc34b4fbe0 button');\n",
              "      quickchartButtonEl.style.display =\n",
              "        google.colab.kernel.accessAllowed ? 'block' : 'none';\n",
              "    })();\n",
              "  </script>\n",
              "</div>\n",
              "    </div>\n",
              "  </div>\n"
            ],
            "application/vnd.google.colaboratory.intrinsic+json": {
              "type": "dataframe",
              "variable_name": "df_val",
              "summary": "{\n  \"name\": \"df_val\",\n  \"rows\": 2125,\n  \"fields\": [\n    {\n      \"column\": \"label\",\n      \"properties\": {\n        \"dtype\": \"number\",\n        \"std\": 0,\n        \"min\": 0,\n        \"max\": 1,\n        \"num_unique_values\": 2,\n        \"samples\": [\n          0,\n          1\n        ],\n        \"semantic_type\": \"\",\n        \"description\": \"\"\n      }\n    },\n    {\n      \"column\": \"tweet\",\n      \"properties\": {\n        \"dtype\": \"string\",\n        \"num_unique_values\": 2125,\n        \"samples\": [\n          \" Great airbed!: Really great airbed, comfortable, easy to inflate, portable. Seems to deflate rather quickly but only takes 5 seconds to refill.\",\n          \" This book is not worth your money. Don't Buy.: This book, like a lot of this summer's \\\"blockbuster\\\" movies, enjoyed a major build-up. It did not live up to its hype. It was full of ego and ultimately left me wondering why I bothered to finish it.\"\n        ],\n        \"semantic_type\": \"\",\n        \"description\": \"\"\n      }\n    }\n  ]\n}"
            }
          },
          "metadata": {},
          "execution_count": 333
        }
      ]
    },
    {
      "cell_type": "code",
      "source": [
        "df_train['label'].value_counts()"
      ],
      "metadata": {
        "colab": {
          "base_uri": "https://localhost:8080/"
        },
        "id": "l-yt5LLPmVae",
        "outputId": "0df48ebd-4ebb-4914-8632-b864127164fe"
      },
      "id": "l-yt5LLPmVae",
      "execution_count": null,
      "outputs": [
        {
          "output_type": "execute_result",
          "data": {
            "text/plain": [
              "0    3270\n",
              "1    3105\n",
              "Name: label, dtype: int64"
            ]
          },
          "metadata": {},
          "execution_count": 108
        }
      ]
    },
    {
      "cell_type": "code",
      "source": [
        "df_test['label'].value_counts()"
      ],
      "metadata": {
        "colab": {
          "base_uri": "https://localhost:8080/"
        },
        "id": "pbfzqddEmcWB",
        "outputId": "ac650dc6-a0cd-4bd5-aa00-df50aadacb9b"
      },
      "id": "pbfzqddEmcWB",
      "execution_count": null,
      "outputs": [
        {
          "output_type": "execute_result",
          "data": {
            "text/plain": [
              "0    756\n",
              "1    744\n",
              "Name: label, dtype: int64"
            ]
          },
          "metadata": {},
          "execution_count": 109
        }
      ]
    },
    {
      "cell_type": "code",
      "source": [
        "df_val['label'].value_counts()"
      ],
      "metadata": {
        "colab": {
          "base_uri": "https://localhost:8080/"
        },
        "id": "ynJLYhD6mjz_",
        "outputId": "0a91c653-6814-4959-fbfc-ba3f1c1fe918"
      },
      "id": "ynJLYhD6mjz_",
      "execution_count": null,
      "outputs": [
        {
          "output_type": "execute_result",
          "data": {
            "text/plain": [
              "0    1071\n",
              "1    1054\n",
              "Name: label, dtype: int64"
            ]
          },
          "metadata": {},
          "execution_count": 110
        }
      ]
    },
    {
      "cell_type": "code",
      "source": [
        "df_train.shape, df_val.shape, df_test.shape"
      ],
      "metadata": {
        "colab": {
          "base_uri": "https://localhost:8080/"
        },
        "id": "McW_VbmLnGO0",
        "outputId": "be59f3f9-0214-4c9a-b438-0c3bfe7ae06a"
      },
      "id": "McW_VbmLnGO0",
      "execution_count": null,
      "outputs": [
        {
          "output_type": "execute_result",
          "data": {
            "text/plain": [
              "((6375, 2), (2125, 2), (1500, 2))"
            ]
          },
          "metadata": {},
          "execution_count": 111
        }
      ]
    },
    {
      "cell_type": "markdown",
      "source": [
        "## 13 Preprocessing data"
      ],
      "metadata": {
        "id": "MGYwgqixsGXs"
      },
      "id": "MGYwgqixsGXs"
    },
    {
      "cell_type": "code",
      "source": [
        "vectorizer_params = {\n",
        "    \"TfidfVectorizer\" : {\n",
        "        \"analyzer\": \"word\",\n",
        "        \"stop_words\": \"english\",\n",
        "        \"max_features\": 1000\n",
        "    }\n",
        "}"
      ],
      "metadata": {
        "id": "htzAJ-YvxP9t"
      },
      "id": "htzAJ-YvxP9t",
      "execution_count": null,
      "outputs": []
    },
    {
      "cell_type": "code",
      "source": [
        "par = vectorizer_params['TfidfVectorizer']"
      ],
      "metadata": {
        "id": "apYCuDkFBKyO"
      },
      "id": "apYCuDkFBKyO",
      "execution_count": null,
      "outputs": []
    },
    {
      "cell_type": "code",
      "source": [
        "P = Preprocessing_data(df_train, df_val, df_test, cln_txt_key='tweet', tfidf_params=par)"
      ],
      "metadata": {
        "id": "8vaz4bfeFvuz"
      },
      "id": "8vaz4bfeFvuz",
      "execution_count": null,
      "outputs": []
    },
    {
      "cell_type": "code",
      "source": [
        "P.data_preprocessing()"
      ],
      "metadata": {
        "colab": {
          "base_uri": "https://localhost:8080/"
        },
        "id": "6MEZ2FjAG_Tj",
        "outputId": "46c7ed14-c662-4000-d9fd-c0d28de5b0c1"
      },
      "id": "6MEZ2FjAG_Tj",
      "execution_count": null,
      "outputs": [
        {
          "output_type": "stream",
          "name": "stderr",
          "text": [
            "100%|██████████| 6375/6375 [00:05<00:00, 1145.19it/s]\n",
            "100%|██████████| 2125/2125 [00:02<00:00, 864.90it/s]\n",
            "100%|██████████| 1500/1500 [00:03<00:00, 383.32it/s]\n"
          ]
        }
      ]
    },
    {
      "cell_type": "code",
      "source": [
        "x_train, x_val, x_test = P.results(15)"
      ],
      "metadata": {
        "id": "u9wg45dGHG7q"
      },
      "id": "u9wg45dGHG7q",
      "execution_count": null,
      "outputs": []
    },
    {
      "cell_type": "code",
      "source": [
        "x_train.shape"
      ],
      "metadata": {
        "colab": {
          "base_uri": "https://localhost:8080/"
        },
        "id": "Uveq5zQfSfZe",
        "outputId": "2c0c8ad4-c3af-4524-b40d-4e6678316ea1"
      },
      "id": "Uveq5zQfSfZe",
      "execution_count": null,
      "outputs": [
        {
          "output_type": "execute_result",
          "data": {
            "text/plain": [
              "(6375, 15)"
            ]
          },
          "metadata": {},
          "execution_count": 343
        }
      ]
    },
    {
      "cell_type": "code",
      "source": [
        "x_val.shape"
      ],
      "metadata": {
        "colab": {
          "base_uri": "https://localhost:8080/"
        },
        "id": "08u7Lgn4SjfQ",
        "outputId": "84dc2d50-64cb-4b55-8516-ffe4551a1752"
      },
      "id": "08u7Lgn4SjfQ",
      "execution_count": null,
      "outputs": [
        {
          "output_type": "execute_result",
          "data": {
            "text/plain": [
              "(2125, 15)"
            ]
          },
          "metadata": {},
          "execution_count": 344
        }
      ]
    },
    {
      "cell_type": "code",
      "source": [
        "x_test.shape"
      ],
      "metadata": {
        "colab": {
          "base_uri": "https://localhost:8080/"
        },
        "id": "aZr73NNAryUQ",
        "outputId": "f0600096-bc3d-479e-ecf4-ecbc9b93d0ab"
      },
      "id": "aZr73NNAryUQ",
      "execution_count": null,
      "outputs": [
        {
          "output_type": "execute_result",
          "data": {
            "text/plain": [
              "(1500, 15)"
            ]
          },
          "metadata": {},
          "execution_count": 345
        }
      ]
    },
    {
      "cell_type": "markdown",
      "source": [
        "## 14 Create DataLoader"
      ],
      "metadata": {
        "id": "7uwXFW2JzTIR"
      },
      "id": "7uwXFW2JzTIR"
    },
    {
      "cell_type": "code",
      "source": [
        "batch_size = 526\n",
        "train_dataset = MyTextData(x_train, df_train['label'].values)\n",
        "train_loader = DataLoader(train_dataset, batch_size=batch_size, shuffle=True)\n",
        "\n",
        "val_dataset = MyTextData(x_val, df_val['label'].values)\n",
        "val_loader = DataLoader(val_dataset, batch_size=16, shuffle=True)"
      ],
      "metadata": {
        "id": "BIV3j78mz0nq"
      },
      "id": "BIV3j78mz0nq",
      "execution_count": null,
      "outputs": []
    },
    {
      "cell_type": "markdown",
      "source": [
        "## 15 Create Model"
      ],
      "metadata": {
        "id": "cBZfjo410cKl"
      },
      "id": "cBZfjo410cKl"
    },
    {
      "cell_type": "code",
      "source": [
        "max_words = par['max_features']"
      ],
      "metadata": {
        "id": "o56QOQbv0llP"
      },
      "id": "o56QOQbv0llP",
      "execution_count": null,
      "outputs": []
    },
    {
      "cell_type": "code",
      "source": [
        "model = Model_Text(vocab_size=max_words, out_channel=1, use_last=False)"
      ],
      "metadata": {
        "id": "cXClv8NVz0y6",
        "colab": {
          "base_uri": "https://localhost:8080/"
        },
        "outputId": "40d1b866-8ad6-422f-9be4-cbbd86428b74"
      },
      "id": "cXClv8NVz0y6",
      "execution_count": null,
      "outputs": [
        {
          "output_type": "stream",
          "name": "stderr",
          "text": [
            "/usr/local/lib/python3.10/dist-packages/torch/nn/modules/rnn.py:83: UserWarning: dropout option adds dropout after all but last recurrent layer, so non-zero dropout expects num_layers greater than 1, but got dropout=0.2 and num_layers=1\n",
            "  warnings.warn(\"dropout option adds dropout after all but last \"\n"
          ]
        }
      ]
    },
    {
      "cell_type": "code",
      "source": [
        "print(model)\n",
        "print(\"Parameters:\", sum([param.nelement() for param in model.parameters()]))"
      ],
      "metadata": {
        "colab": {
          "base_uri": "https://localhost:8080/"
        },
        "id": "Anh3hwGGz04C",
        "outputId": "badebf9b-0697-4a88-8b94-46f9759ddb1e"
      },
      "id": "Anh3hwGGz04C",
      "execution_count": null,
      "outputs": [
        {
          "output_type": "stream",
          "name": "stdout",
          "text": [
            "Model_Text(\n",
            "  (embedding): Embedding(1000, 500)\n",
            "  (lstm_b_1): LSTM(500, 250, batch_first=True, dropout=0.2, bidirectional=True)\n",
            "  (lstm_1): LSTM(500, 250, batch_first=True, dropout=0.2)\n",
            "  (srnn): RNN(250, 125, batch_first=True)\n",
            "  (drop_1): Dropout(p=0.2, inplace=False)\n",
            "  (fc1): Linear(in_features=125, out_features=62, bias=True)\n",
            "  (fc2): Linear(in_features=62, out_features=31, bias=True)\n",
            "  (fc3): Linear(in_features=31, out_features=15, bias=True)\n",
            "  (fc4): Linear(in_features=15, out_features=1, bias=True)\n",
            ")\n",
            "Parameters: 2813386\n"
          ]
        }
      ]
    },
    {
      "cell_type": "markdown",
      "source": [
        "## 16 Create optimizer and function loss"
      ],
      "metadata": {
        "id": "dnOobGnrEEAF"
      },
      "id": "dnOobGnrEEAF"
    },
    {
      "cell_type": "code",
      "source": [
        "optimizer = torch.optim.Adam(model.parameters(), lr=0.001)\n",
        "criterion = nn.BCELoss()"
      ],
      "metadata": {
        "id": "MBx91cLfz08K"
      },
      "id": "MBx91cLfz08K",
      "execution_count": null,
      "outputs": []
    },
    {
      "cell_type": "markdown",
      "source": [
        "## 17 Learn of model"
      ],
      "metadata": {
        "id": "p5qMRFhhEUOb"
      },
      "id": "p5qMRFhhEUOb"
    },
    {
      "cell_type": "code",
      "source": [
        "epochs = 20\n",
        "model = model.to(device)\n",
        "model.train()\n",
        "th = 0.5\n",
        "\n",
        "train_loss_history = []\n",
        "test_loss_history = []\n",
        "\n",
        "\n",
        "for epoch in range(epochs):\n",
        "    running_items, running_right = 0.0, 0.0\n",
        "    for i, data in enumerate(train_loader, 0):\n",
        "        inputs, labels = data[0].to(device), data[1].to(device)\n",
        "        # print(inputs.size())\n",
        "\n",
        "        # обнуляем градиент\n",
        "        optimizer.zero_grad()\n",
        "        outputs = model(inputs)\n",
        "\n",
        "        loss = criterion(outputs, labels.float().view(-1, 1))\n",
        "        loss.backward()\n",
        "        optimizer.step()\n",
        "\n",
        "        # подсчет ошибки на обучении\n",
        "        loss = loss.item()\n",
        "        running_items += len(labels)\n",
        "        # подсчет метрики на обучении\n",
        "        pred_labels = torch.squeeze((outputs > th).int())\n",
        "        running_right += (labels == pred_labels).sum()\n",
        "\n",
        "    # выводим статистику о процессе обучения\n",
        "    model.eval()\n",
        "\n",
        "    print(f'Epoch [{epoch + 1}/{epochs}]. ' \\\n",
        "            f'Step [{i + 1}/{len(train_loader)}]. ' \\\n",
        "            f'Loss: {loss:.3f}. ' \\\n",
        "            f'Acc: {running_right / running_items:.3f}', end='. ')\n",
        "    running_loss, running_items, running_right = 0.0, 0.0, 0.0\n",
        "    train_loss_history.append(loss)\n",
        "\n",
        "        # выводим статистику на тестовых данных\n",
        "    test_running_right, test_running_total, test_loss = 0.0, 0.0, 0.0\n",
        "    for j, data in enumerate(val_loader):\n",
        "        test_labels = data[1].to(device)\n",
        "        test_outputs = model(data[0].to(device))\n",
        "\n",
        "        # подсчет ошибки на тесте\n",
        "        test_loss = criterion(test_outputs, test_labels.float().view(-1, 1))\n",
        "        # подсчет метрики на тесте\n",
        "        test_running_total += len(data[1])\n",
        "        pred_test_labels = torch.squeeze((test_outputs > th).int())\n",
        "        test_running_right += (test_labels == pred_test_labels).sum()\n",
        "\n",
        "    test_loss_history.append(test_loss.item())\n",
        "    print(f'Test loss: {test_loss:.3f}. Test acc: {test_running_right / test_running_total:.3f}')\n",
        "\n",
        "    model.train()\n",
        "\n",
        "print('Training is finished!')"
      ],
      "metadata": {
        "colab": {
          "base_uri": "https://localhost:8080/"
        },
        "id": "jEDMoMawz1AX",
        "outputId": "2e6bb0c1-d4c2-4c77-ba8b-ae212dbacc4e"
      },
      "id": "jEDMoMawz1AX",
      "execution_count": null,
      "outputs": [
        {
          "output_type": "stream",
          "name": "stdout",
          "text": [
            "Epoch [1/20]. Step [13/13]. Loss: 0.471. Acc: 0.644. Test loss: 0.730. Test acc: 0.748\n",
            "Epoch [2/20]. Step [13/13]. Loss: 0.588. Acc: 0.777. Test loss: 0.454. Test acc: 0.752\n",
            "Epoch [3/20]. Step [13/13]. Loss: 0.452. Acc: 0.829. Test loss: 0.281. Test acc: 0.778\n",
            "Epoch [4/20]. Step [13/13]. Loss: 0.195. Acc: 0.864. Test loss: 1.348. Test acc: 0.787\n",
            "Epoch [5/20]. Step [13/13]. Loss: 0.228. Acc: 0.899. Test loss: 0.636. Test acc: 0.780\n",
            "Epoch [6/20]. Step [13/13]. Loss: 0.153. Acc: 0.931. Test loss: 0.862. Test acc: 0.769\n",
            "Epoch [7/20]. Step [13/13]. Loss: 0.165. Acc: 0.947. Test loss: 0.071. Test acc: 0.773\n",
            "Epoch [8/20]. Step [13/13]. Loss: 0.164. Acc: 0.961. Test loss: 0.752. Test acc: 0.770\n",
            "Epoch [9/20]. Step [13/13]. Loss: 0.093. Acc: 0.968. Test loss: 0.751. Test acc: 0.774\n",
            "Epoch [10/20]. Step [13/13]. Loss: 0.086. Acc: 0.974. Test loss: 0.603. Test acc: 0.766\n",
            "Epoch [11/20]. Step [13/13]. Loss: 0.037. Acc: 0.981. Test loss: 2.658. Test acc: 0.772\n",
            "Epoch [12/20]. Step [13/13]. Loss: 0.089. Acc: 0.983. Test loss: 1.253. Test acc: 0.778\n",
            "Epoch [13/20]. Step [13/13]. Loss: 0.038. Acc: 0.985. Test loss: 1.035. Test acc: 0.765\n",
            "Epoch [14/20]. Step [13/13]. Loss: 0.025. Acc: 0.981. Test loss: 1.039. Test acc: 0.768\n",
            "Epoch [15/20]. Step [13/13]. Loss: 0.025. Acc: 0.987. Test loss: 1.588. Test acc: 0.775\n",
            "Epoch [16/20]. Step [13/13]. Loss: 0.012. Acc: 0.987. Test loss: 1.232. Test acc: 0.763\n",
            "Epoch [17/20]. Step [13/13]. Loss: 0.005. Acc: 0.993. Test loss: 1.826. Test acc: 0.764\n",
            "Epoch [18/20]. Step [13/13]. Loss: 0.003. Acc: 0.995. Test loss: 0.997. Test acc: 0.774\n",
            "Epoch [19/20]. Step [13/13]. Loss: 0.011. Acc: 0.996. Test loss: 0.703. Test acc: 0.770\n",
            "Epoch [20/20]. Step [13/13]. Loss: 0.005. Acc: 0.995. Test loss: 0.581. Test acc: 0.774\n",
            "Training is finished!\n"
          ]
        }
      ]
    },
    {
      "cell_type": "markdown",
      "source": [
        "## 18 Visualisation of result learning model"
      ],
      "metadata": {
        "id": "01gLWoZ-SAiL"
      },
      "id": "01gLWoZ-SAiL"
    },
    {
      "cell_type": "code",
      "source": [
        "plt.title('Loss history')\n",
        "plt.grid(True)\n",
        "plt.ylabel('Loss')\n",
        "plt.xlabel('Epoch')\n",
        "plt.plot(train_loss_history, label='train')\n",
        "plt.plot(test_loss_history, label='test')\n",
        "plt.legend()"
      ],
      "metadata": {
        "id": "zyxf1xhfz1Es",
        "colab": {
          "base_uri": "https://localhost:8080/",
          "height": 490
        },
        "outputId": "215ecbdd-39e0-4268-9bbe-27f1bfe6089b"
      },
      "id": "zyxf1xhfz1Es",
      "execution_count": null,
      "outputs": [
        {
          "output_type": "execute_result",
          "data": {
            "text/plain": [
              "<matplotlib.legend.Legend at 0x7ad625b79030>"
            ]
          },
          "metadata": {},
          "execution_count": 125
        },
        {
          "output_type": "display_data",
          "data": {
            "text/plain": [
              "<Figure size 640x480 with 1 Axes>"
            ],
            "image/png": "[encoded data removed]"
          },
          "metadata": {}
        }
      ]
    },
    {
      "cell_type": "code",
      "source": [
        "torch.save(model, path_to_work_dir + \"Torch_model.pth\")"
      ],
      "metadata": {
        "id": "rE0Cb0ouzTMk"
      },
      "id": "rE0Cb0ouzTMk",
      "execution_count": null,
      "outputs": []
    },
    {
      "cell_type": "markdown",
      "source": [
        "## 19 Make clasification report"
      ],
      "metadata": {
        "id": "YzzzjyNsYoVN"
      },
      "id": "YzzzjyNsYoVN"
    },
    {
      "cell_type": "code",
      "source": [
        "pt_model_load = torch.load(path_to_work_dir + \"Torch_model.pth\")"
      ],
      "metadata": {
        "id": "tYwh05FZTHFY"
      },
      "id": "tYwh05FZTHFY",
      "execution_count": null,
      "outputs": []
    },
    {
      "cell_type": "code",
      "source": [
        "y_pred = pt_model_load(torch.from_numpy(x_test))"
      ],
      "metadata": {
        "id": "qsGlmvtoT-uc"
      },
      "id": "qsGlmvtoT-uc",
      "execution_count": null,
      "outputs": []
    },
    {
      "cell_type": "code",
      "source": [
        "y_pred = y_pred.detach().numpy()"
      ],
      "metadata": {
        "id": "2q2iAw_2pOLC"
      },
      "id": "2q2iAw_2pOLC",
      "execution_count": null,
      "outputs": []
    },
    {
      "cell_type": "code",
      "source": [
        "y_pred_bin = []\n",
        "for y in y_pred:\n",
        "    if y > 0.5:\n",
        "        y_pred_bin.append(1)\n",
        "    else:\n",
        "        y_pred_bin.append(0)"
      ],
      "metadata": {
        "id": "3PHBV_KuuIry"
      },
      "id": "3PHBV_KuuIry",
      "execution_count": null,
      "outputs": []
    },
    {
      "cell_type": "code",
      "source": [
        "y_test = df_test['label']"
      ],
      "metadata": {
        "id": "Nzgz8U_8sk_r"
      },
      "id": "Nzgz8U_8sk_r",
      "execution_count": null,
      "outputs": []
    },
    {
      "cell_type": "code",
      "source": [
        "print(classification_report(y_test, y_pred_bin))"
      ],
      "metadata": {
        "colab": {
          "base_uri": "https://localhost:8080/"
        },
        "id": "sz4QjVfAtZng",
        "outputId": "289848bd-8bf4-43b5-86a0-eefe97452d63"
      },
      "id": "sz4QjVfAtZng",
      "execution_count": null,
      "outputs": [
        {
          "output_type": "stream",
          "name": "stdout",
          "text": [
            "              precision    recall  f1-score   support\n",
            "\n",
            "           0       0.75      0.77      0.76       756\n",
            "           1       0.76      0.75      0.75       744\n",
            "\n",
            "    accuracy                           0.76      1500\n",
            "   macro avg       0.76      0.76      0.76      1500\n",
            "weighted avg       0.76      0.76      0.76      1500\n",
            "\n"
          ]
        }
      ]
    },
    {
      "cell_type": "markdown",
      "source": [
        "# V Conclusion"
      ],
      "metadata": {
        "id": "ZGVmRXUoU0AJ"
      },
      "id": "ZGVmRXUoU0AJ"
    },
    {
      "cell_type": "markdown",
      "source": [
        "График функции потерь четко отражает хорошую обучаемость NN на тренировочных данных, но очень плохо справляется с тестовыми данными, это чвязано с малым объемом выборки используемой для обучения модели. Аналогичный пример обработки данных с большим объемом данных представлен [здесь](https://colab.research.google.com/drive/1c3CN3kBfnAuI7XSUS2Uw-Zl6zjJCgvpZ): где на [графике](https://colab.research.google.com/drive/1c3CN3kBfnAuI7XSUS2Uw-Zl6zjJCgvpZ#scrollTo=Ro8iJKYCKGZU) можно увидеть улучшение результатов при условии увеличенного объема данных"
      ],
      "metadata": {
        "id": "EBkt4DD3U-t5"
      },
      "id": "EBkt4DD3U-t5"
    }
  ],
  "metadata": {
    "kernelspec": {
      "display_name": "Python 3",
      "name": "python3"
    },
    "language_info": {
      "codemirror_mode": {
        "name": "ipython",
        "version": 3
      },
      "file_extension": ".py",
      "mimetype": "text/x-python",
      "name": "python",
      "nbconvert_exporter": "python",
      "pygments_lexer": "ipython3",
      "version": "3.8.8"
    },
    "colab": {
      "provenance": [],
      "toc_visible": true
    }
  },
  "nbformat": 4,
  "nbformat_minor": 5
}